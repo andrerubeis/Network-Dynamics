{
  "nbformat": 4,
  "nbformat_minor": 0,
  "metadata": {
    "kernelspec": {
      "display_name": "Python 3",
      "language": "python",
      "name": "python3"
    },
    "language_info": {
      "codemirror_mode": {
        "name": "ipython",
        "version": 3
      },
      "file_extension": ".py",
      "mimetype": "text/x-python",
      "name": "python",
      "nbconvert_exporter": "python",
      "pygments_lexer": "ipython3",
      "version": "3.7.6"
    },
    "colab": {
      "name": "Lab00.ipynb",
      "provenance": [],
      "include_colab_link": true
    }
  },
  "cells": [
    {
      "cell_type": "markdown",
      "metadata": {
        "id": "view-in-github",
        "colab_type": "text"
      },
      "source": [
        "<a href=\"https://colab.research.google.com/github/andrerubeis/My-Projects/blob/main/Academic%20Projects/Network%20Dynamics/Labs/Lab00.ipynb\" target=\"_parent\"><img src=\"https://colab.research.google.com/assets/colab-badge.svg\" alt=\"Open In Colab\"/></a>"
      ]
    },
    {
      "cell_type": "markdown",
      "metadata": {
        "id": "UWCuSZI5Tsai"
      },
      "source": [
        "# Setting Up Your Environment"
      ]
    },
    {
      "cell_type": "markdown",
      "metadata": {
        "id": "R1umbiTXTsal"
      },
      "source": [
        "This notebook contains some guidelines to prepare programming environments for the upcoming labs. During our labs we will mostly work in Jupyter Notebook. \n",
        "\n",
        "(We are using Python 3)"
      ]
    },
    {
      "cell_type": "markdown",
      "metadata": {
        "id": "K2Eq4qx3Tsam"
      },
      "source": [
        "### Step 1: Install Jupyter Notebook"
      ]
    },
    {
      "cell_type": "markdown",
      "metadata": {
        "id": "4Gfnet42Tsan"
      },
      "source": [
        "I suggest you to install free [Anaconda](https://docs.anaconda.com/anaconda/install/) Python distribution which already includes all necessary Python packages and modules - NumPy, SciPy, Matplotlib and **NetworkX**. Simply download appropriate installer for your OS and follow the proposed steps."
      ]
    },
    {
      "cell_type": "markdown",
      "metadata": {
        "id": "dZkf2BupTsao"
      },
      "source": [
        "<!-- -*- coding: utf-8 -*- -->\n",
        "# Introduction to NetworkX\n",
        "*Credits: This tutorial was created by the NetworkX Developers and modified by Laura Arditti and Leonardo Cianfanelli.*\n",
        "\n",
        "This guide can help you start working with NetworkX."
      ]
    },
    {
      "cell_type": "markdown",
      "metadata": {
        "id": "MEPKoonnTsap"
      },
      "source": [
        "## Graph Types\n",
        "\n",
        "NetworkX provides data structures and methods for storing graphs. The choice of graph class depends on the structure of the graph you want to represent.\n"
      ]
    },
    {
      "cell_type": "markdown",
      "metadata": {
        "id": "JGZ1NwqNTsaq"
      },
      "source": [
        "### Graph—Undirected graphs\n",
        "Base class for undirected graphs.\n",
        "A Graph stores nodes and edges with optional data, or attributes.\n",
        "Graphs hold undirected edges. Self loops are allowed but multiple (parallel) edges are not.\n",
        "Edges are represented as links between nodes with optional key/value attributes."
      ]
    },
    {
      "cell_type": "markdown",
      "metadata": {
        "id": "iDSScBXUTsaq"
      },
      "source": [
        "#### Creating a Graph\n",
        "\n",
        "Create an empty graph with no nodes and no edges."
      ]
    },
    {
      "cell_type": "code",
      "metadata": {
        "id": "b7YHMoyMTsar"
      },
      "source": [
        "import networkx as nx\n",
        "G = nx.Graph()"
      ],
      "execution_count": 57,
      "outputs": []
    },
    {
      "cell_type": "markdown",
      "metadata": {
        "id": "3YheV7MBTsas"
      },
      "source": [
        "By definition, a `Graph` is a collection of nodes (vertices) along with\n",
        "identified pairs of nodes (called edges, links, etc).  In NetworkX, nodes can\n",
        "be objects with many different types, e.g., a number, a text string, an image, another\n",
        "Graph, etc.\n",
        "\n",
        "## Nodes\n",
        "\n",
        "The graph `G` can be grown in several ways.  You can add one node\n",
        "at a time,"
      ]
    },
    {
      "cell_type": "code",
      "metadata": {
        "id": "BGTYzXniTsau",
        "outputId": "d9502017-0fb9-46ec-cfb4-0452144a0c80",
        "colab": {
          "base_uri": "https://localhost:8080/"
        }
      },
      "source": [
        "G.add_node(1)\n",
        "print(G.nodes)"
      ],
      "execution_count": 58,
      "outputs": [
        {
          "output_type": "stream",
          "name": "stdout",
          "text": [
            "[1]\n"
          ]
        }
      ]
    },
    {
      "cell_type": "markdown",
      "metadata": {
        "id": "KJvvtnNRTsav"
      },
      "source": [
        "or you can add the nodes from any container (a list, dict, set or the nodes from another graph)."
      ]
    },
    {
      "cell_type": "code",
      "metadata": {
        "id": "UZwR2TW3Tsaw",
        "outputId": "ac52aace-a9a4-4a68-d770-9bf7a0ca5357",
        "colab": {
          "base_uri": "https://localhost:8080/"
        }
      },
      "source": [
        "n_list = [11,12]\n",
        "n_set = set((21,22))\n",
        "\n",
        "G.add_nodes_from(n_list)\n",
        "G.add_nodes_from(n_set)\n",
        "G.add_nodes_from(range(100, 110))\n",
        "\n",
        "print(G.nodes)"
      ],
      "execution_count": 59,
      "outputs": [
        {
          "output_type": "stream",
          "name": "stdout",
          "text": [
            "[1, 11, 12, 21, 22, 100, 101, 102, 103, 104, 105, 106, 107, 108, 109]\n"
          ]
        }
      ]
    },
    {
      "cell_type": "code",
      "metadata": {
        "id": "hOYkbbftTsax",
        "outputId": "88512d28-2cb6-4c04-ebf7-a9a053952fe4",
        "colab": {
          "base_uri": "https://localhost:8080/"
        }
      },
      "source": [
        "H = nx.path_graph(10)\n",
        "print(\"Nodes of H:\", H.nodes)\n",
        "\n",
        "G.add_nodes_from(H)\n",
        "print(\"Nodes of G:\", G.nodes)"
      ],
      "execution_count": 60,
      "outputs": [
        {
          "output_type": "stream",
          "name": "stdout",
          "text": [
            "Nodes of H: [0, 1, 2, 3, 4, 5, 6, 7, 8, 9]\n",
            "Nodes of G: [1, 11, 12, 21, 22, 100, 101, 102, 103, 104, 105, 106, 107, 108, 109, 0, 2, 3, 4, 5, 6, 7, 8, 9]\n"
          ]
        }
      ]
    },
    {
      "cell_type": "markdown",
      "metadata": {
        "id": "ofQXDwbgTsax"
      },
      "source": [
        "# What to use as nodes and edges\n",
        "Nodes can be even other graphs."
      ]
    },
    {
      "cell_type": "code",
      "metadata": {
        "id": "c5ZC5rQJTsay",
        "outputId": "a297feb9-e8e3-43ec-889e-3e2cbfc848e5",
        "colab": {
          "base_uri": "https://localhost:8080/"
        }
      },
      "source": [
        "G.add_node(H)\n",
        "print(G.nodes)"
      ],
      "execution_count": 61,
      "outputs": [
        {
          "output_type": "stream",
          "name": "stdout",
          "text": [
            "[1, 11, 12, 21, 22, 100, 101, 102, 103, 104, 105, 106, 107, 108, 109, 0, 2, 3, 4, 5, 6, 7, 8, 9, <networkx.classes.graph.Graph object at 0x7f86af41a650>]\n"
          ]
        }
      ]
    },
    {
      "cell_type": "markdown",
      "metadata": {
        "id": "GlwMrge3Tsay"
      },
      "source": [
        "The graph `G` now contains `H` as a node. This flexibility is very powerful as\n",
        "it allows graphs of graphs, graphs of files, and much more.\n",
        "\n",
        "Similarily, an edge can be associated\n",
        "with any object `x` using `G.add_edge(n1, n2, object=x)`.\n",
        "\n",
        "Nodes and edges are not specified as NetworkX\n",
        "objects.  This leaves you free to use meaningful items as nodes and\n",
        "edges. The most common choices are numbers or strings.\n",
        "\n",
        "We have found this power quite useful, but its abuse can lead to surprising behavior unless one is familiar with Python. If in doubt, consider using convert_node_labels_to_integers() to obtain a more traditional graph with integer labels."
      ]
    },
    {
      "cell_type": "code",
      "metadata": {
        "id": "N5AzSFUUTsaz",
        "outputId": "e149f6b1-0649-469d-f290-394a95c4ca54",
        "colab": {
          "base_uri": "https://localhost:8080/"
        }
      },
      "source": [
        "G2=nx.convert_node_labels_to_integers(G)\n",
        "\n",
        "print(G2.nodes)"
      ],
      "execution_count": 62,
      "outputs": [
        {
          "output_type": "stream",
          "name": "stdout",
          "text": [
            "[0, 1, 2, 3, 4, 5, 6, 7, 8, 9, 10, 11, 12, 13, 14, 15, 16, 17, 18, 19, 20, 21, 22, 23, 24]\n"
          ]
        }
      ]
    },
    {
      "cell_type": "markdown",
      "metadata": {
        "id": "dHQTpOy2Tsaz"
      },
      "source": [
        "## Edges\n",
        "\n",
        "`G` can also be grown by adding one edge at a time,"
      ]
    },
    {
      "cell_type": "code",
      "metadata": {
        "id": "Xx2Fq237Tsa0",
        "outputId": "fac46f6d-7451-4ecd-d137-05b40327bedd",
        "colab": {
          "base_uri": "https://localhost:8080/"
        }
      },
      "source": [
        "G.add_edge(1, 2)\n",
        "e = (2, 3)\n",
        "G.add_edge(*e)  # unpack edge tuple*\n",
        "print(G.edges)"
      ],
      "execution_count": 63,
      "outputs": [
        {
          "output_type": "stream",
          "name": "stdout",
          "text": [
            "[(1, 2), (2, 3)]\n"
          ]
        }
      ]
    },
    {
      "cell_type": "markdown",
      "metadata": {
        "id": "aGW8OesjTsa0"
      },
      "source": [
        "by adding a list of edges,"
      ]
    },
    {
      "cell_type": "code",
      "metadata": {
        "id": "lCMK4tALTsa1",
        "outputId": "8a24c2ff-fa89-4c9a-f506-2642aba93696",
        "colab": {
          "base_uri": "https://localhost:8080/"
        }
      },
      "source": [
        "G.add_edges_from([(1, 2), (1, 3)])\n",
        "print(G.edges)"
      ],
      "execution_count": 64,
      "outputs": [
        {
          "output_type": "stream",
          "name": "stdout",
          "text": [
            "[(1, 2), (1, 3), (2, 3)]\n"
          ]
        }
      ]
    },
    {
      "cell_type": "markdown",
      "metadata": {
        "id": "FOWs-BuyTsa1"
      },
      "source": [
        "or by adding any ebunch of edges.  An *ebunch* is any iterable\n",
        "container of edge-tuples.  An edge-tuple can be a 2-tuple of nodes or a 3-tuple\n",
        "with 2 nodes followed by an edge attribute dictionary, e.g.,\n",
        "`(2, 3, {'weight': 3.1415})`.\n",
        "For example, an instance of ebunch containing all the edges of the graph H is obtained with `H.edges`:"
      ]
    },
    {
      "cell_type": "code",
      "metadata": {
        "id": "ccYqGQvyTsa1",
        "outputId": "b80cefdf-cabc-4a0f-c29e-9facc5d721d4",
        "colab": {
          "base_uri": "https://localhost:8080/"
        }
      },
      "source": [
        "G.add_edges_from(H.edges)\n",
        "edges_weighted = [(1 ,5, {'attribute': 2}), (1, 6)];\n",
        "G.add_edges_from(edges_weighted)\n",
        "print(G.edges)"
      ],
      "execution_count": 65,
      "outputs": [
        {
          "output_type": "stream",
          "name": "stdout",
          "text": [
            "[(1, 2), (1, 3), (1, 0), (1, 5), (1, 6), (2, 3), (3, 4), (4, 5), (5, 6), (6, 7), (7, 8), (8, 9)]\n"
          ]
        }
      ]
    },
    {
      "cell_type": "markdown",
      "metadata": {
        "id": "KJjSPuYfTsa2"
      },
      "source": [
        "If some edges connect nodes not yet in the graph, the nodes are added automatically. There are no errors when adding nodes or edges that already exist.\n"
      ]
    },
    {
      "cell_type": "markdown",
      "metadata": {
        "id": "PchqesAUTsa2"
      },
      "source": [
        "For example, after removing all nodes and edges, we add an edge without adding nodes, but the nodes are still in the graph."
      ]
    },
    {
      "cell_type": "code",
      "metadata": {
        "id": "vuWoH7cMTsa2",
        "outputId": "648f5c75-86aa-4653-a996-33c5b4e152f5",
        "colab": {
          "base_uri": "https://localhost:8080/"
        }
      },
      "source": [
        "G.clear()\n",
        "G.add_edges_from([(1, 2), (1, 3)])\n",
        "print(G.nodes)"
      ],
      "execution_count": 66,
      "outputs": [
        {
          "output_type": "stream",
          "name": "stdout",
          "text": [
            "[1, 2, 3]\n"
          ]
        }
      ]
    },
    {
      "cell_type": "markdown",
      "metadata": {
        "id": "JHSZf9DaTsa2"
      },
      "source": [
        "We now add new nodes/edges and NetworkX quietly ignores any that are already present."
      ]
    },
    {
      "cell_type": "code",
      "metadata": {
        "id": "AicBoo0CTsa3"
      },
      "source": [
        "G.add_node(1)\n",
        "G.add_edge(1, 2)"
      ],
      "execution_count": 67,
      "outputs": []
    },
    {
      "cell_type": "markdown",
      "metadata": {
        "id": "DJn883XWTsa3"
      },
      "source": [
        "We can add node from strings, or the single characters of the string."
      ]
    },
    {
      "cell_type": "code",
      "metadata": {
        "id": "-0h_BrRKTsa3",
        "outputId": "df075287-72a9-4959-e18d-c4873e518e3a",
        "colab": {
          "base_uri": "https://localhost:8080/"
        }
      },
      "source": [
        "G.add_node(\"spam\")        # adds node \"spam\"\n",
        "G.add_nodes_from(\"spam\")  # adds 4 nodes: 's', 'p', 'a', 'm'\n",
        "G.add_edge(3, 'm')\n",
        "print(\"Nodes:\", G.nodes)\n",
        "print(\"Edges:\", G.edges)"
      ],
      "execution_count": 68,
      "outputs": [
        {
          "output_type": "stream",
          "name": "stdout",
          "text": [
            "Nodes: [1, 2, 3, 'spam', 's', 'p', 'a', 'm']\n",
            "Edges: [(1, 2), (1, 3), (3, 'm')]\n"
          ]
        }
      ]
    },
    {
      "cell_type": "markdown",
      "metadata": {
        "id": "7eN7wJNoTsa3"
      },
      "source": [
        "At this stage the graph `G` consists of 8 nodes and 3 edges, as can be seen by:"
      ]
    },
    {
      "cell_type": "code",
      "metadata": {
        "id": "8Drx3xOcTsa3",
        "outputId": "d8f8c652-a769-45a6-fcde-06c307a24eab",
        "colab": {
          "base_uri": "https://localhost:8080/"
        }
      },
      "source": [
        "print(\"Number of nodes:\", G.number_of_nodes())\n",
        "print(\"Number of edges:\", G.number_of_edges())"
      ],
      "execution_count": 69,
      "outputs": [
        {
          "output_type": "stream",
          "name": "stdout",
          "text": [
            "Number of nodes: 8\n",
            "Number of edges: 3\n"
          ]
        }
      ]
    },
    {
      "cell_type": "markdown",
      "metadata": {
        "id": "VFt3U1r1Tsa4"
      },
      "source": [
        "# Examining elements of a graph\n",
        "\n",
        "\n",
        "We can examine the nodes and edges. Four basic graph properties facilitate\n",
        "reporting: `G.nodes`, `G.edges`, `G.adj` and `G.degree`.  These\n",
        "are views of the nodes, edges, neighbors (adjacencies), and degrees\n",
        "of nodes in a graph. They offer a continually updated read-only view into\n",
        "the graph structure.\n",
        "\n",
        "They are also dict-like in that you can look up node\n",
        "and edge data attributes via the views and iterate with data attributes\n",
        "using methods `.items()`, `.data('attribute')`.\n",
        "\n",
        "\n",
        "If you want a specific container type instead of a view, you can specify one.\n",
        "Here we use lists, though sets, dicts, tuples and other containers may be\n",
        "better in other contexts."
      ]
    },
    {
      "cell_type": "code",
      "metadata": {
        "scrolled": true,
        "id": "OTu5lmSBTsa4",
        "outputId": "8eb566c8-f509-4eca-f292-7b9f3253b8d7",
        "colab": {
          "base_uri": "https://localhost:8080/"
        }
      },
      "source": [
        "print(\"List of nodes:\", list(G.nodes))\n",
        "print(\"List of edges:\", list(G.edges))\n",
        "print(\"List of neighbors of node 1:\", list(G.adj[1])) # or list(G.neighbors(1))\n",
        "print(\"Degree of node 1:\", G.degree[1])  # the number of edges incident to 1"
      ],
      "execution_count": 70,
      "outputs": [
        {
          "output_type": "stream",
          "name": "stdout",
          "text": [
            "List of nodes: [1, 2, 3, 'spam', 's', 'p', 'a', 'm']\n",
            "List of edges: [(1, 2), (1, 3), (3, 'm')]\n",
            "List of neighbors of node 1: [2, 3]\n",
            "Degree of node 1: 2\n"
          ]
        }
      ]
    },
    {
      "cell_type": "markdown",
      "metadata": {
        "id": "CqIEMckyTsa4"
      },
      "source": [
        "One can specify to report the edges and degree from a subset of all nodes\n",
        "using an *nbunch*. An *nbunch* is any of: None (meaning all nodes), a node,\n",
        "or an iterable container of nodes that is not itself a node in the graph."
      ]
    },
    {
      "cell_type": "code",
      "metadata": {
        "id": "gULekLktTsa5",
        "outputId": "ed9b6da2-0c57-4a93-f8fa-c43a568cd81e",
        "colab": {
          "base_uri": "https://localhost:8080/"
        }
      },
      "source": [
        "print(G.degree([1,2,'m',3]))\n",
        "print(G.edges(None))\n",
        "print(G.edges([2,'m']))"
      ],
      "execution_count": 71,
      "outputs": [
        {
          "output_type": "stream",
          "name": "stdout",
          "text": [
            "[(1, 2), (2, 1), ('m', 1), (3, 2)]\n",
            "[(1, 2), (1, 3), (3, 'm')]\n",
            "[(2, 1), ('m', 3)]\n"
          ]
        }
      ]
    },
    {
      "cell_type": "markdown",
      "metadata": {
        "id": "-q5UwyOcTsa5"
      },
      "source": [
        "Note that edges in undirected graphs are unordered, thus the order of the nodes in the edge may be inverted."
      ]
    },
    {
      "cell_type": "markdown",
      "metadata": {
        "id": "g3_jFQr6Tsa5"
      },
      "source": [
        "# Removing elements from a graph\n",
        "\n",
        "One can remove nodes and edges from the graph in a similar fashion to adding.\n",
        "Use methods\n",
        "`Graph.remove_node()`,\n",
        "`Graph.remove_nodes_from()`,\n",
        "`Graph.remove_edge()`\n",
        "and\n",
        "`Graph.remove_edges_from()`, e.g."
      ]
    },
    {
      "cell_type": "code",
      "metadata": {
        "id": "hyu0b7jLTsa5",
        "outputId": "a262adc7-6e10-4b36-a323-7e1beb081d23",
        "colab": {
          "base_uri": "https://localhost:8080/"
        }
      },
      "source": [
        "G.remove_node(2)\n",
        "print(\"Nodes of G:\", G.nodes)"
      ],
      "execution_count": 72,
      "outputs": [
        {
          "output_type": "stream",
          "name": "stdout",
          "text": [
            "Nodes of G: [1, 3, 'spam', 's', 'p', 'a', 'm']\n"
          ]
        }
      ]
    },
    {
      "cell_type": "markdown",
      "metadata": {
        "id": "n5ZLNBgbTsa6"
      },
      "source": [
        "Notice the difference between these two codes: \n",
        "- the first one removes the node \"spam\";\n",
        "- the second one removes the node \"s\", \"p\", \"a\", and \"m\"."
      ]
    },
    {
      "cell_type": "code",
      "metadata": {
        "id": "voHBmKFsTsa6",
        "outputId": "90d051c8-52b4-45fa-aff1-1e63a7f8bc9a",
        "colab": {
          "base_uri": "https://localhost:8080/"
        }
      },
      "source": [
        "G.remove_nodes_from([\"spam\"])\n",
        "print(\"Nodes of G:\", G.nodes)"
      ],
      "execution_count": 73,
      "outputs": [
        {
          "output_type": "stream",
          "name": "stdout",
          "text": [
            "Nodes of G: [1, 3, 's', 'p', 'a', 'm']\n"
          ]
        }
      ]
    },
    {
      "cell_type": "code",
      "metadata": {
        "id": "dKijeW-xTsa6",
        "outputId": "7b1b6320-44ac-45cb-e963-53e1b5db2def",
        "colab": {
          "base_uri": "https://localhost:8080/"
        }
      },
      "source": [
        "G.remove_nodes_from(\"spam\")\n",
        "print(\"Nodes of G:\", G.nodes)\n",
        "G.remove_edge(1, 3)\n",
        "list(G.nodes)"
      ],
      "execution_count": 74,
      "outputs": [
        {
          "output_type": "stream",
          "name": "stdout",
          "text": [
            "Nodes of G: [1, 3]\n"
          ]
        },
        {
          "output_type": "execute_result",
          "data": {
            "text/plain": [
              "[1, 3]"
            ]
          },
          "metadata": {},
          "execution_count": 74
        }
      ]
    },
    {
      "cell_type": "markdown",
      "metadata": {
        "id": "DTRKja8ATsa6"
      },
      "source": [
        "If you remove elements that are not in the graph from a container, NetworkX does not give an error."
      ]
    },
    {
      "cell_type": "code",
      "metadata": {
        "id": "jGJrcsgATsa6"
      },
      "source": [
        "G.remove_nodes_from([4,5])"
      ],
      "execution_count": 75,
      "outputs": []
    },
    {
      "cell_type": "markdown",
      "metadata": {
        "id": "mv-OGyZXTsa7"
      },
      "source": [
        "If you instead remove single elements that are not in the graph, NetworkX does give an error."
      ]
    },
    {
      "cell_type": "markdown",
      "metadata": {
        "id": "5d7DPlGyTsa7"
      },
      "source": [
        "\n",
        "# Accessing edges and neighbors\n",
        "\n",
        "In addition to the views `Graph.edges`, and `Graph.adj`,\n",
        "access to edges and neighbors is possible using subscript notation."
      ]
    },
    {
      "cell_type": "code",
      "metadata": {
        "id": "rkNIPcuuTsa7",
        "outputId": "cc843007-a77f-4d1a-bb9f-bfe130c5994c",
        "colab": {
          "base_uri": "https://localhost:8080/"
        }
      },
      "source": [
        "# construct a graph with an edge\n",
        "# the corresponding nodes will be automatically added to the graph\n",
        "G = nx.Graph([(1, 2, {\"color\": \"yellow\"})])\n",
        "print(\"Neighborhood of node 1:\", G[1])\n",
        "# same as \n",
        "print(G.adj[1])\n",
        "print(\"Edge attributes of edge between 1 and 2:\", G[1][2])\n",
        "# same as \n",
        "print(G.edges[(1, 2)])"
      ],
      "execution_count": 76,
      "outputs": [
        {
          "output_type": "stream",
          "name": "stdout",
          "text": [
            "Neighborhood of node 1: {2: {'color': 'yellow'}}\n",
            "{2: {'color': 'yellow'}}\n",
            "Edge attributes of edge between 1 and 2: {'color': 'yellow'}\n",
            "{'color': 'yellow'}\n"
          ]
        }
      ]
    },
    {
      "cell_type": "markdown",
      "metadata": {
        "id": "WPpxGWTfTsa7"
      },
      "source": [
        "You can get/set the attributes of an edge using subscript notation\n",
        "if the edge already exists."
      ]
    },
    {
      "cell_type": "code",
      "metadata": {
        "id": "jjfCNKALTsa7",
        "outputId": "5ea4827d-5cab-4bc6-cfc0-f26f2a6dc98f",
        "colab": {
          "base_uri": "https://localhost:8080/"
        }
      },
      "source": [
        "G.add_edge(1, 3)\n",
        "G[1][3]['color'] = \"blue\"\n",
        "G.edges[(1, 2)]['color'] = \"red\"\n",
        "print(\"Edges with attributes:\", dict(G.edges))"
      ],
      "execution_count": 77,
      "outputs": [
        {
          "output_type": "stream",
          "name": "stdout",
          "text": [
            "Edges with attributes: {(1, 2): {'color': 'red'}, (1, 3): {'color': 'blue'}}\n"
          ]
        }
      ]
    },
    {
      "cell_type": "markdown",
      "metadata": {
        "id": "9YZK5RAXTsa7"
      },
      "source": [
        "Fast examination of all (node, adjacency) pairs is achieved using\n",
        "`G.adjacency()`, or `G.adj.items()`.\n",
        "Note that for undirected graphs, adjacency iteration sees each edge twice."
      ]
    },
    {
      "cell_type": "code",
      "metadata": {
        "id": "b0I8DaiRTsa7",
        "outputId": "39b09c9f-d6dc-4ddf-9e5d-5298df867abd",
        "colab": {
          "base_uri": "https://localhost:8080/"
        }
      },
      "source": [
        "FG = nx.Graph()\n",
        "FG.add_weighted_edges_from([(1, 2, 0.125), (1, 3, 0.75), (2, 4, 1.2), (3, 4, 0.375)])\n",
        "\n",
        "FG.adj.items()"
      ],
      "execution_count": 78,
      "outputs": [
        {
          "output_type": "execute_result",
          "data": {
            "text/plain": [
              "ItemsView(AdjacencyView({1: {2: {'weight': 0.125}, 3: {'weight': 0.75}}, 2: {1: {'weight': 0.125}, 4: {'weight': 1.2}}, 3: {1: {'weight': 0.75}, 4: {'weight': 0.375}}, 4: {2: {'weight': 1.2}, 3: {'weight': 0.375}}}))"
            ]
          },
          "metadata": {},
          "execution_count": 78
        }
      ]
    },
    {
      "cell_type": "code",
      "metadata": {
        "id": "pmD1qa7BTsa8",
        "outputId": "8aaec30c-75fc-411e-8167-6ee7bd772fd3",
        "colab": {
          "base_uri": "https://localhost:8080/"
        }
      },
      "source": [
        "for n, nbrs in FG.adj.items():\n",
        "    for nbr, eattr in nbrs.items():\n",
        "        wt = eattr['weight']\n",
        "        if wt < 0.5: print('(%d, %d, %.3f)' % (n, nbr, wt))"
      ],
      "execution_count": 79,
      "outputs": [
        {
          "output_type": "stream",
          "name": "stdout",
          "text": [
            "(1, 2, 0.125)\n",
            "(2, 1, 0.125)\n",
            "(3, 4, 0.375)\n",
            "(4, 3, 0.375)\n"
          ]
        }
      ]
    },
    {
      "cell_type": "markdown",
      "metadata": {
        "id": "Azm_DOS4Tsa8"
      },
      "source": [
        "Convenient access to all edges is achieved with the edges property."
      ]
    },
    {
      "cell_type": "code",
      "metadata": {
        "id": "urFnA4Y-Tsa8",
        "outputId": "8784bfcb-98cf-4802-cc63-aa933630471d",
        "colab": {
          "base_uri": "https://localhost:8080/"
        }
      },
      "source": [
        "for (u, v, wt) in FG.edges.data('weight'):\n",
        "    if wt < 0.5: \n",
        "        print('(%d, %d, %.3f)' % (u, v, wt))"
      ],
      "execution_count": 80,
      "outputs": [
        {
          "output_type": "stream",
          "name": "stdout",
          "text": [
            "(1, 2, 0.125)\n",
            "(3, 4, 0.375)\n"
          ]
        }
      ]
    },
    {
      "cell_type": "markdown",
      "metadata": {
        "id": "vURwuhALTsa8"
      },
      "source": [
        "# Adding attributes\n",
        "\n",
        "Attributes such as weights, labels, colors, or whatever Python object you like,\n",
        "can be attached to graphs, nodes, or edges.\n",
        "\n",
        "Each edge can hold key/value attribute pairs in an associated\n",
        "attribute dictionary (the keys must be hashable).  By default these are empty,\n",
        "but attributes can be added or changed using `add_edge`or by direct\n",
        "manipulation of the attribute dictionary named\n",
        "`G.edges` for a graph `G`.\n"
      ]
    },
    {
      "cell_type": "markdown",
      "metadata": {
        "id": "UzY_2en5Tsa8"
      },
      "source": [
        "## Edge Attributes\n",
        "\n",
        "Add/change edge attributes using `add_edge()`, `add_edges_from()`,\n",
        "or subscript notation."
      ]
    },
    {
      "cell_type": "code",
      "metadata": {
        "id": "gEEtzkGBTsa8",
        "outputId": "fe23f1e0-0315-4066-848b-a4a49311c44c",
        "colab": {
          "base_uri": "https://localhost:8080/"
        }
      },
      "source": [
        "G.add_edge(1, 2, attr=4.7 )\n",
        "G.add_edges_from([(3, 4), (4, 5)], color='red')\n",
        "G.add_edges_from([(1, 2, {'color': 'blue'}), (2, 3, {'weight': 8})])\n",
        "G[1][2]['weight'] = 4.5\n",
        "G.edges[(3, 4)]['weight'] = 4.2\n",
        "print(\"All edges with their attributes:\", dict(G.edges))"
      ],
      "execution_count": 81,
      "outputs": [
        {
          "output_type": "stream",
          "name": "stdout",
          "text": [
            "All edges with their attributes: {(1, 2): {'color': 'blue', 'attr': 4.7, 'weight': 4.5}, (1, 3): {'color': 'blue'}, (2, 3): {'weight': 8}, (3, 4): {'color': 'red', 'weight': 4.2}, (4, 5): {'color': 'red'}}\n"
          ]
        }
      ]
    },
    {
      "cell_type": "markdown",
      "metadata": {
        "id": "F4RN3fi_Tsa9"
      },
      "source": [
        "IMPORTANT: The special attribute `weight` should be numeric as it is used by\n",
        "algorithms requiring weighted edges.\n",
        "\n",
        "# Directed graphs\n",
        "\n",
        "The `DiGraph` class provides additional properties specific to\n",
        "directed edges, e.g.,\n",
        "`DiGraph.out_edges()`, `DiGraph.in_degree()`,\n",
        "`DiGraph.predecessors()`, `DiGraph.successors()` etc.\n",
        "To allow algorithms to work with both classes easily, the directed versions of\n",
        "`neighbors()` is equivalent to `successors()` while `degree` reports\n",
        "the sum of `in_degree` and `out_degree` even though that may feel\n",
        "inconsistent at times."
      ]
    },
    {
      "cell_type": "code",
      "metadata": {
        "id": "ipn03zpXTsa9",
        "outputId": "91e2cf31-672d-4df2-f5ea-bcd95e87f1ca",
        "colab": {
          "base_uri": "https://localhost:8080/"
        }
      },
      "source": [
        "DG = nx.DiGraph()\n",
        "DG.add_weighted_edges_from([(1, 2, 0.5), (3, 1, 0.75)])\n",
        "# argument weight specifies which edge attribute to be used \n",
        "# as weight in computing the degree\n",
        "print(\"Out degree of node 1:\",DG.out_degree(1, weight='weight')) \n",
        "print(\"Sum of in-degree and out-degree of node 1:\", DG.degree(1, weight='weight'))\n",
        "print(\"Successors of node 1:\", list(DG.successors(1)))\n",
        "print(\"All neighbors of node 1:\", list(DG.neighbors(1)))"
      ],
      "execution_count": 82,
      "outputs": [
        {
          "output_type": "stream",
          "name": "stdout",
          "text": [
            "Out degree of node 1: 0.5\n",
            "Sum of in-degree and out-degree of node 1: 1.25\n",
            "Successors of node 1: [2]\n",
            "All neighbors of node 1: [2]\n"
          ]
        }
      ]
    },
    {
      "cell_type": "markdown",
      "metadata": {
        "id": "0EZDOyaCTsa9"
      },
      "source": [
        "Some algorithms work only for directed graphs and others are not well\n",
        "defined for directed graphs. If you want to treat\n",
        "a directed graph as undirected for some measurement you should probably\n",
        "convert it using `Graph.to_undirected()` or with"
      ]
    },
    {
      "cell_type": "code",
      "metadata": {
        "id": "O536b_dETsa9"
      },
      "source": [
        "H = nx.Graph(DG)  # convert G to undirected graph"
      ],
      "execution_count": 83,
      "outputs": []
    },
    {
      "cell_type": "markdown",
      "metadata": {
        "id": "mnQtWPY2Tsa9"
      },
      "source": [
        "# Multigraphs\n",
        "\n",
        "NetworkX provides classes for graphs which allow multiple edges\n",
        "between any pair of nodes.  The `MultiGraph` and\n",
        "`MultiDiGraph`\n",
        "classes allow you to add the same edge twice, possibly with different\n",
        "edge data (multigraph will be introduced more formally in the course in the next weeks).  This can be powerful for some applications, but many\n",
        "algorithms are not well defined on multigraphs.\n",
        "\n",
        "In some cases results are well defined,\n",
        "e.g., `MultiGraph.degree()`.  "
      ]
    },
    {
      "cell_type": "code",
      "metadata": {
        "id": "I8wfMEvgTsa9",
        "outputId": "7eaedbc1-7138-4bcc-bb5c-cc867bc484de",
        "colab": {
          "base_uri": "https://localhost:8080/"
        }
      },
      "source": [
        "MG = nx.MultiGraph()\n",
        "MG.add_weighted_edges_from([(1, 2, 0.5), (1, 2, 0.75), (2, 3, 0.5)])\n",
        "\n",
        "print(\"All nodes with their degree (without weights):\", dict(MG.degree()))\n",
        "print(\"All nodes with their degree (with weights):\", dict(MG.degree(weight='weight')))"
      ],
      "execution_count": 84,
      "outputs": [
        {
          "output_type": "stream",
          "name": "stdout",
          "text": [
            "All nodes with their degree (without weights): {1: 2, 2: 3, 3: 1}\n",
            "All nodes with their degree (with weights): {1: 1.25, 2: 1.75, 3: 0.5}\n"
          ]
        }
      ]
    },
    {
      "cell_type": "markdown",
      "metadata": {
        "id": "pJQ7I5BNTsa-"
      },
      "source": [
        "Otherwise you should convert to a standard graph in a way that makes the measurement\n",
        "well defined."
      ]
    },
    {
      "cell_type": "code",
      "metadata": {
        "id": "0IM110k4Tsa-",
        "outputId": "b5c8b262-d0d2-49bd-bcf5-2f991409f848",
        "colab": {
          "base_uri": "https://localhost:8080/"
        }
      },
      "source": [
        "# Example: to compute the shortest path in a Multigraph, we construct a standard graph \n",
        "# where multiple links are replaced by a single unweighted link\n",
        "\n",
        "# create weighted graph from M\n",
        "G = nx.Graph()\n",
        "for u,v,attr in MG.edges(data=True):\n",
        "    w = attr['weight']\n",
        "    if G.has_edge(u,v):\n",
        "        G[u][v]['weight'] += w\n",
        "    else:\n",
        "        G.add_edge(u, v, weight=w)\n",
        "\n",
        "print(nx.shortest_path(G, 1, 3))\n",
        "print(\"All nodes with their degree (with weights):\", dict(MG.degree(weight='weight')))"
      ],
      "execution_count": 85,
      "outputs": [
        {
          "output_type": "stream",
          "name": "stdout",
          "text": [
            "[1, 2, 3]\n",
            "All nodes with their degree (with weights): {1: 1.25, 2: 1.75, 3: 0.5}\n"
          ]
        }
      ]
    },
    {
      "cell_type": "markdown",
      "metadata": {
        "id": "YKa53qeBTsa-"
      },
      "source": [
        "# Graph generators and graph operations\n",
        "\n",
        "In addition to constructing graphs node-by-node or edge-by-edge, they\n",
        "can also be generated by\n",
        "\n",
        "1. Applying classic graph operations (see https://networkx.org/documentation/stable/reference/index.html for more details), such as:\n",
        "\n",
        "   ```\n",
        "   subgraph(G, nbunch)      - induced subgraph view of G on nodes in nbunch\n",
        "   union(G1,G2)             - graph union\n",
        "   disjoint_union(G1,G2)    - graph union assuming all nodes are different\n",
        "   cartesian_product(G1,G2) - return Cartesian product graph\n",
        "   compose(G1,G2)           - combine graphs identifying nodes common to both\n",
        "   to_undirected(G)         - return an undirected representation of G\n",
        "   to_directed(G)           - return a directed representation of G\n",
        "   ```\n",
        "\n",
        "1. Using a call to one of the classic small graphs, e.g.,"
      ]
    },
    {
      "cell_type": "code",
      "metadata": {
        "id": "F9WCLly8Tsa-"
      },
      "source": [
        "petersen = nx.petersen_graph()\n",
        "tutte = nx.tutte_graph()\n",
        "maze = nx.sedgewick_maze_graph()\n",
        "tet = nx.tetrahedral_graph()"
      ],
      "execution_count": 86,
      "outputs": []
    },
    {
      "cell_type": "markdown",
      "metadata": {
        "id": "Kr2mXCQfTsa-"
      },
      "source": [
        "3. Using a (constructive) generator for a classic graph, e.g.\n",
        "\n",
        "    - complete graph `K_n`: simple (i.e., undirected, unweighted) graph consisting of `n` nodes each connected to every other node;\n",
        "    \n",
        "    - complete bipartite graph `K_n_m`: simple graph consisting of two disjoint set of nodes with order `m` and `n`, where two           nodes are connected each other if and only if they are not in the same set;\n",
        "    \n",
        "    - barbell graph `B_n`: two complete graphs with order `n`, connected by an edge.\n"
      ]
    },
    {
      "cell_type": "code",
      "metadata": {
        "id": "EEAuPcrXTsa-"
      },
      "source": [
        "K_4 = nx.complete_graph(4)\n",
        "K_2_3 = nx.complete_bipartite_graph(2, 3)\n",
        "B_3 = nx.barbell_graph(3, 0)"
      ],
      "execution_count": 87,
      "outputs": []
    },
    {
      "cell_type": "code",
      "metadata": {
        "id": "jsLEYw7ATsa_",
        "outputId": "6e0bfd70-b21b-4753-e0e1-3bc205eb232b",
        "colab": {
          "base_uri": "https://localhost:8080/"
        }
      },
      "source": [
        "print(\"Edges of K_4:\", K_4.edges)\n",
        "print(\"Edges of K_2_3:\", K_2_3.edges)\n",
        "print(\"Edges of B_3:\", B_3.edges)"
      ],
      "execution_count": 88,
      "outputs": [
        {
          "output_type": "stream",
          "name": "stdout",
          "text": [
            "Edges of K_4: [(0, 1), (0, 2), (0, 3), (1, 2), (1, 3), (2, 3)]\n",
            "Edges of K_2_3: [(0, 2), (0, 3), (0, 4), (1, 2), (1, 3), (1, 4)]\n",
            "Edges of B_3: [(0, 1), (0, 2), (1, 2), (2, 3), (3, 4), (3, 5), (4, 5)]\n"
          ]
        }
      ]
    },
    {
      "cell_type": "markdown",
      "metadata": {
        "id": "LmuslzLmTsa_"
      },
      "source": [
        "4. Using a stochastic graph generator, e.g.,"
      ]
    },
    {
      "cell_type": "code",
      "metadata": {
        "id": "-vb0ycEITsa_"
      },
      "source": [
        "er = nx.erdos_renyi_graph(100, 0.15)\n",
        "ws = nx.watts_strogatz_graph(30, 3, 0.1)\n",
        "ba = nx.barabasi_albert_graph(100, 5)"
      ],
      "execution_count": 89,
      "outputs": []
    },
    {
      "cell_type": "markdown",
      "metadata": {
        "id": "g7y2TwJwTsa_"
      },
      "source": [
        "5. Reading a graph stored in a file using common graph formats,\n",
        "   such as edge lists, adjacency lists, GML and others."
      ]
    },
    {
      "cell_type": "code",
      "metadata": {
        "id": "CtDnJbS1Tsa_"
      },
      "source": [
        "nx.write_gml(ws, \"path.to.file\")\n",
        "mygraph = nx.read_gml(\"path.to.file\")"
      ],
      "execution_count": 90,
      "outputs": []
    },
    {
      "cell_type": "markdown",
      "metadata": {
        "id": "qRM2d82NTsa_"
      },
      "source": [
        "For details on graph formats see section Reading and writing graphs of Networkx documentation\n",
        "and for graph generator functions see section Graph generators."
      ]
    },
    {
      "cell_type": "markdown",
      "metadata": {
        "id": "PAjyCGwtTsbA"
      },
      "source": [
        "# Drawing graphs\n",
        "\n",
        "NetworkX is not primarily a graph drawing package but basic drawing with\n",
        "Matplotlib is included.  \n",
        "\n",
        "First import Matplotlib’s plot interface "
      ]
    },
    {
      "cell_type": "code",
      "metadata": {
        "id": "DtfOnPw-TsbA"
      },
      "source": [
        "import matplotlib.pyplot as plt\n",
        "%matplotlib inline"
      ],
      "execution_count": 91,
      "outputs": []
    },
    {
      "cell_type": "markdown",
      "metadata": {
        "id": "O94x7pdKTsbA"
      },
      "source": [
        "As an example, draw Petersen graph.\n",
        "\n",
        "The function `subplot(nmp)` divides the current figure into an m-by-n grid and creates axes in the position specified by p. Python numbers subplot positions by row. The first subplot is the first column of the first row, the second subplot is the second column of the first row, and so on. If axes exist in the specified position, then this command makes the axes the current axes."
      ]
    },
    {
      "cell_type": "code",
      "metadata": {
        "id": "OsX3DAxtTsbA",
        "outputId": "a8064196-ec7c-4c21-889a-7f0d489280c2",
        "colab": {
          "base_uri": "https://localhost:8080/",
          "height": 248
        }
      },
      "source": [
        "G = nx.petersen_graph()\n",
        "plt.subplot(121)\n",
        "nx.draw(G, with_labels=True, font_weight='bold')\n",
        "plt.subplot(122)\n",
        "nx.draw_shell(G, nlist=[range(5, 10), range(5)], with_labels=True, font_weight='bold')"
      ],
      "execution_count": 92,
      "outputs": [
        {
          "output_type": "display_data",
          "data": {
            "image/png": "[encoded data removed]",
            "text/plain": [
              "<Figure size 432x288 with 2 Axes>"
            ]
          },
          "metadata": {}
        }
      ]
    },
    {
      "cell_type": "markdown",
      "metadata": {
        "id": "MVdnG7q5TsbA"
      },
      "source": [
        "You can specify drawing options separately using an `options` dictionary.\n",
        "You can find additional options via `draw_networkx()` and\n",
        "layouts via `layout`. For example, the shell layout `draw_shell()` places different gropus of nodes in concentric circles (\"shells\")."
      ]
    },
    {
      "cell_type": "code",
      "metadata": {
        "id": "9OECL6oQTsbA",
        "outputId": "a0ce4fca-3d6f-4e30-a2f2-8fcd33ff4872",
        "colab": {
          "base_uri": "https://localhost:8080/",
          "height": 248
        }
      },
      "source": [
        "options = {\n",
        "    'node_color': 'black',\n",
        "    'node_size': 100,\n",
        "    'width': 3, # width of the edges\n",
        "}\n",
        "plt.subplot(221)\n",
        "nx.draw_random(G, **options)\n",
        "plt.subplot(222)\n",
        "nx.draw_circular(G, **options)\n",
        "plt.subplot(223)\n",
        "nx.draw_spectral(G, **options)\n",
        "plt.subplot(224)\n",
        "nx.draw_shell(G, nlist=[range(5,10), range(5)], **options)"
      ],
      "execution_count": 93,
      "outputs": [
        {
          "output_type": "display_data",
          "data": {
            "image/png": "[encoded data removed]",
            "text/plain": [
              "<Figure size 432x288 with 4 Axes>"
            ]
          },
          "metadata": {}
        }
      ]
    },
    {
      "cell_type": "code",
      "metadata": {
        "id": "bmxq67YDTsbB",
        "outputId": "d0b3e955-23d1-42e6-fe4f-b68ccf58f124",
        "colab": {
          "base_uri": "https://localhost:8080/",
          "height": 319
        }
      },
      "source": [
        "G = nx.dodecahedral_graph()\n",
        "shells = [[2, 3, 4, 5, 6], [8, 1, 0, 19, 18, 17, 16, 15, 14, 7], [9, 10, 11, 12, 13]]\n",
        "nx.draw_shell(G, nlist=shells, **options)"
      ],
      "execution_count": 94,
      "outputs": [
        {
          "output_type": "display_data",
          "data": {
            "image/png": "[encoded data removed]",
            "text/plain": [
              "<Figure size 432x288 with 1 Axes>"
            ]
          },
          "metadata": {}
        }
      ]
    },
    {
      "cell_type": "markdown",
      "metadata": {
        "id": "lsGLkFbvTsbB"
      },
      "source": [
        "To save drawings to a file, use, for example"
      ]
    },
    {
      "cell_type": "code",
      "metadata": {
        "id": "Zg3v9bNGTsbB",
        "outputId": "e1214fc4-1c45-4d4e-d2d4-8c124ce93944",
        "colab": {
          "base_uri": "https://localhost:8080/",
          "height": 319
        }
      },
      "source": [
        "nx.draw(G)\n",
        "plt.savefig(\"path.png\")"
      ],
      "execution_count": 95,
      "outputs": [
        {
          "output_type": "display_data",
          "data": {
            "image/png": "[encoded data removed]",
            "text/plain": [
              "<Figure size 432x288 with 1 Axes>"
            ]
          },
          "metadata": {}
        }
      ]
    },
    {
      "cell_type": "markdown",
      "metadata": {
        "id": "EwLkQVX4TsbB"
      },
      "source": [
        "writes to the file `path.png` in the local directory."
      ]
    },
    {
      "cell_type": "markdown",
      "metadata": {
        "id": "wpeuhr3HTsbB"
      },
      "source": [
        "See Drawing in the NetworkX Reference for additional details."
      ]
    },
    {
      "cell_type": "markdown",
      "metadata": {
        "id": "54-2tnUETsbB"
      },
      "source": [
        "# Algorithms\n",
        "NetworkX offers the implementation of a lot of network-related algorithms, which allow performing complex graph analysis in a simple way.\n",
        "As an overview we present the following functions contained in the modules `networkx.algorithms.components` and `networkx.algorithms.cycles`."
      ]
    },
    {
      "cell_type": "markdown",
      "metadata": {
        "id": "HorjPFI9TsbB"
      },
      "source": [
        "## Strong connectivity\n",
        "A directed graph is strongly connected if and only if every node in the graph is reachable from every other node, i.e., if from every ordered pair of nodes there exists a path from the first node to the second one.\n",
        "`networkx.algorithms.components.is_strongly_connected` test directed graph for strong connectivity."
      ]
    },
    {
      "cell_type": "code",
      "metadata": {
        "id": "jADRtKk1TsbB",
        "outputId": "a614d85d-2775-465d-a09d-84b5e24a9129",
        "colab": {
          "base_uri": "https://localhost:8080/",
          "height": 319
        }
      },
      "source": [
        "DG = nx.DiGraph()\n",
        "DG.add_edges_from([(1,2),(2,3),(3,1),(4,5),(5,6),(6,7),(7,4),(4,1)])\n",
        "nx.draw(DG,with_labels=True)"
      ],
      "execution_count": 96,
      "outputs": [
        {
          "output_type": "display_data",
          "data": {
            "image/png": "[encoded data removed]",
            "text/plain": [
              "<Figure size 432x288 with 1 Axes>"
            ]
          },
          "metadata": {}
        }
      ]
    },
    {
      "cell_type": "markdown",
      "metadata": {
        "id": "6h1xfCqLTsbC"
      },
      "source": [
        "QUESTION: is this graph strongly connected?"
      ]
    },
    {
      "cell_type": "code",
      "metadata": {
        "id": "2rNdAsDVTsbC",
        "outputId": "24936e47-c26d-40db-e359-fa4c3101bd61",
        "colab": {
          "base_uri": "https://localhost:8080/"
        }
      },
      "source": [
        "print(\"Is strongly connected:\", nx.algorithms.components.is_strongly_connected(DG))"
      ],
      "execution_count": 97,
      "outputs": [
        {
          "output_type": "stream",
          "name": "stdout",
          "text": [
            "Is strongly connected: False\n"
          ]
        }
      ]
    },
    {
      "cell_type": "markdown",
      "metadata": {
        "id": "QnX3PTtiTsbC"
      },
      "source": [
        "The analysis of the connectedness of a graph can be further refined by considering the so called `connected components` of `G`, that are the maximal subsets `V1, V2, ..., Vk` of the node set `V` such that, for every pair of nodes `i` and `j` in the\n",
        "same component `Vh`, there exists a path from `i` to `j`.\n",
        "\n",
        "QUESTION: how many connected components does DG have?"
      ]
    },
    {
      "cell_type": "code",
      "metadata": {
        "id": "Wj5WfxkrTsbC",
        "outputId": "159461e7-f25c-4eb5-8071-9f8c09eddd85",
        "colab": {
          "base_uri": "https://localhost:8080/"
        }
      },
      "source": [
        "print(\"Number of connected components:\", nx.algorithms.components.number_strongly_connected_components(DG))"
      ],
      "execution_count": 98,
      "outputs": [
        {
          "output_type": "stream",
          "name": "stdout",
          "text": [
            "Number of connected components: 2\n"
          ]
        }
      ]
    },
    {
      "cell_type": "markdown",
      "metadata": {
        "id": "HDk0i7O8TsbC"
      },
      "source": [
        "We can construct the condensation graph, which is the graph with each of the strongly connected components contracted into a single node. Edges in the condensation graph represents edges between nodes of different connected components."
      ]
    },
    {
      "cell_type": "code",
      "metadata": {
        "id": "ItyBDK32TsbC",
        "outputId": "20ec7767-ca8d-40ef-e747-372eccfbd9a9",
        "colab": {
          "base_uri": "https://localhost:8080/",
          "height": 248
        }
      },
      "source": [
        "# CG condensation graph of DG\n",
        "CG = nx.algorithms.components.condensation(DG)\n",
        "plt.subplot(121)\n",
        "nx.draw(DG,with_labels=True)\n",
        "plt.subplot(122)\n",
        "nx.draw(CG, with_labels=True)"
      ],
      "execution_count": 99,
      "outputs": [
        {
          "output_type": "display_data",
          "data": {
            "image/png": "[encoded data removed]",
            "text/plain": [
              "<Figure size 432x288 with 2 Axes>"
            ]
          },
          "metadata": {}
        }
      ]
    },
    {
      "cell_type": "markdown",
      "metadata": {
        "id": "GSv99GRYTsbC"
      },
      "source": [
        "QUESTION: can a condensation graph with more than one node be strongly connected?"
      ]
    },
    {
      "cell_type": "markdown",
      "metadata": {
        "id": "gIYLfKoiTsbC"
      },
      "source": [
        "CG is the condensation graph of DG. The node labels are integers corresponding to the index of the component in the \n",
        "list of strongly connected components of DG.\n",
        "\n",
        "Each node in CG also has a node attribute ‘members’ with the set of original nodes in DG that form \n",
        "the strongly connected component that the node in CG represents.\n",
        "\n",
        "QUESTION: map nodes from CG into set of nodes of DG"
      ]
    },
    {
      "cell_type": "code",
      "metadata": {
        "id": "1XxFnF48TsbD",
        "outputId": "80220e94-a8ac-4a12-f95b-4c6765b6be0b",
        "colab": {
          "base_uri": "https://localhost:8080/"
        }
      },
      "source": [
        "dict(CG.nodes)"
      ],
      "execution_count": 100,
      "outputs": [
        {
          "output_type": "execute_result",
          "data": {
            "text/plain": [
              "{0: {'members': {1, 2, 3}}, 1: {'members': {4, 5, 6, 7}}}"
            ]
          },
          "metadata": {},
          "execution_count": 100
        }
      ]
    },
    {
      "cell_type": "markdown",
      "metadata": {
        "id": "LfIfmpkHTsbD"
      },
      "source": [
        "CG has a graph attribute named ‘mapping’ with a dictionary mapping the original nodes of DG to the nodes in CG to which \n",
        "they belong. "
      ]
    },
    {
      "cell_type": "code",
      "metadata": {
        "id": "aUUFVFECTsbD",
        "outputId": "3cc69969-4037-4a63-d630-9a986aa55b8d",
        "colab": {
          "base_uri": "https://localhost:8080/"
        }
      },
      "source": [
        "mapping = CG.graph['mapping']\n",
        "print(mapping)"
      ],
      "execution_count": 101,
      "outputs": [
        {
          "output_type": "stream",
          "name": "stdout",
          "text": [
            "{1: 0, 2: 0, 3: 0, 4: 1, 5: 1, 6: 1, 7: 1}\n"
          ]
        }
      ]
    },
    {
      "cell_type": "markdown",
      "metadata": {
        "id": "RwlqsYlLTsbD"
      },
      "source": [
        "**Note**: all previous functions related to strong connectivity can only be applied to directed graphs. Counterparts are provided for undirected graphs."
      ]
    },
    {
      "cell_type": "markdown",
      "metadata": {
        "id": "ofx-iBfeTsbD"
      },
      "source": [
        "## Sinks\n",
        "SINK: node that does not have out-neighbors.\n",
        "\n",
        "In networkxX, an attracting component in a directed graph DG is a strongly connected component with the property that a random walker on the graph will never leave the component, once it enters the component. This is equivalent to requiring that the strongly connected component is a trapping set.\n",
        "Attracting components in DG consitute sinks of its condensation graph CG.\n",
        "\n",
        "`networkx.algorithms.components.number_attracting_components` returns the number of attracting components in DG.\n"
      ]
    },
    {
      "cell_type": "code",
      "metadata": {
        "id": "kuOZVsS2TsbD",
        "outputId": "0a58ff8f-69c3-4ba2-8a5a-66b259f7992e",
        "colab": {
          "base_uri": "https://localhost:8080/"
        }
      },
      "source": [
        "print(\"Number of attracting components:\", nx.algorithms.components.number_attracting_components(DG))"
      ],
      "execution_count": 102,
      "outputs": [
        {
          "output_type": "stream",
          "name": "stdout",
          "text": [
            "Number of attracting components: 1\n"
          ]
        }
      ]
    },
    {
      "cell_type": "markdown",
      "metadata": {
        "id": "bOaY_32WTsbD"
      },
      "source": [
        "`networkx.algorithms.components.attracting_components` generates the attracting components of DG.\n",
        "You can directly list nodes of DG belonging to each attracting component:"
      ]
    },
    {
      "cell_type": "code",
      "metadata": {
        "id": "bJY0VtR4TsbD",
        "outputId": "bdccae6c-50a0-40a2-8ce5-b110bcdd1201",
        "colab": {
          "base_uri": "https://localhost:8080/"
        }
      },
      "source": [
        "for c in nx.algorithms.components.attracting_components(DG):\n",
        "    print(c)"
      ],
      "execution_count": 103,
      "outputs": [
        {
          "output_type": "stream",
          "name": "stdout",
          "text": [
            "{1, 2, 3}\n"
          ]
        }
      ]
    },
    {
      "cell_type": "markdown",
      "metadata": {
        "id": "FzO4-XXXTsbE"
      },
      "source": [
        "or you can obtain the subgraphs of DG induced on each attracting component and visualize them:"
      ]
    },
    {
      "cell_type": "code",
      "metadata": {
        "scrolled": true,
        "id": "R3g5pxd6TsbE",
        "outputId": "936bb9ca-cd9d-48cc-e6c2-f713d374175d",
        "colab": {
          "base_uri": "https://localhost:8080/",
          "height": 336
        }
      },
      "source": [
        "# components = list of subgraphs induced on each attracting component of DG\n",
        "components = list(DG.subgraph(c).copy() for c in nx.algorithms.components.attracting_components(DG))\n",
        "\n",
        "# the number of attracting components is the length of the list\n",
        "print(len(components))\n",
        "\n",
        "nx.draw(components[0],with_labels=True)\n"
      ],
      "execution_count": 104,
      "outputs": [
        {
          "output_type": "stream",
          "name": "stdout",
          "text": [
            "1\n"
          ]
        },
        {
          "output_type": "display_data",
          "data": {
            "image/png": "[encoded data removed]",
            "text/plain": [
              "<Figure size 432x288 with 1 Axes>"
            ]
          },
          "metadata": {}
        }
      ]
    },
    {
      "cell_type": "markdown",
      "metadata": {
        "id": "SUHK6kc0TsbE"
      },
      "source": [
        "## Cycles\n",
        "A simple cycle is a closed path where no node appears twice. Two elementary circuits are considered distinct if they are not cyclic permutations of each other.\n",
        "\n",
        "NetworkX provides cycle finding algorithms, that can be exploited to compute the periodicity of nodes and graphs.\n",
        "For example, `networkx.algorithms.cycles.simple_cycles` find simple cycles of a directed graph"
      ]
    },
    {
      "cell_type": "code",
      "metadata": {
        "scrolled": true,
        "id": "8y33Ays1TsbE",
        "outputId": "52d0a72c-eb5d-4a1e-8aa7-33ed71fe6017",
        "colab": {
          "base_uri": "https://localhost:8080/"
        }
      },
      "source": [
        "cycles = list(nx.simple_cycles(DG))\n",
        "for cycle in cycles:\n",
        "    print(\"Cycle:\", cycle, \"Lenght:\", len(cycle))"
      ],
      "execution_count": 105,
      "outputs": [
        {
          "output_type": "stream",
          "name": "stdout",
          "text": [
            "Cycle: [4, 5, 6, 7] Lenght: 4\n",
            "Cycle: [1, 2, 3] Lenght: 3\n"
          ]
        }
      ]
    },
    {
      "cell_type": "markdown",
      "metadata": {
        "id": "LFRa9xLLTsbE"
      },
      "source": [
        "### Period of a node\n",
        "The period of a node is the Greatest Common Divisior of all cycles containing such node.\n",
        "\n",
        "#### Exercise 1\n",
        "Try to compute the period of each node in DG. \n",
        "\n",
        "**Hint**: exploit `networkx.algorithms.cycles.simple_cycles` and `math.gcd()`, which computes the GCD of two given numbers.\n",
        "Remember that you can compute the GCD of a list of numbers sequentially:"
      ]
    },
    {
      "cell_type": "code",
      "metadata": {
        "id": "Fu4dzet2TsbE",
        "outputId": "e5bb5b35-b617-4a69-863c-12c45dbc8908",
        "colab": {
          "base_uri": "https://localhost:8080/"
        }
      },
      "source": [
        "from math import gcd\n",
        "\n",
        "numbers = [3,9,24]\n",
        "GCD = numbers[0] # First initialize GCD with the first number of the list\n",
        "for n in numbers:\n",
        "    GCD = gcd(GCD,n)\n",
        "GCD"
      ],
      "execution_count": 106,
      "outputs": [
        {
          "output_type": "execute_result",
          "data": {
            "text/plain": [
              "3"
            ]
          },
          "metadata": {},
          "execution_count": 106
        }
      ]
    },
    {
      "cell_type": "code",
      "metadata": {
        "id": "QmtmvotsTsbE"
      },
      "source": [
        "# TO DO"
      ],
      "execution_count": 107,
      "outputs": []
    },
    {
      "cell_type": "markdown",
      "metadata": {
        "id": "hdGOdGqeTsbF"
      },
      "source": [
        "#### Exercise 2\n",
        "Consider the following directed graph."
      ]
    },
    {
      "cell_type": "code",
      "metadata": {
        "id": "B419okwtTsbF",
        "outputId": "4053699d-86e4-41f4-9e0f-67630958a260",
        "colab": {
          "base_uri": "https://localhost:8080/",
          "height": 319
        }
      },
      "source": [
        "DG = nx.DiGraph()\n",
        "n_nodes = 10\n",
        "nx.add_cycle(DG, range(n_nodes))\n",
        "for n in range(n_nodes):\n",
        "    other = n+3\n",
        "    if other>=n_nodes:\n",
        "        other-=n_nodes\n",
        "    DG.add_edge(other,n)\n",
        "nx.draw_circular(DG, with_labels=True)\n"
      ],
      "execution_count": 108,
      "outputs": [
        {
          "output_type": "display_data",
          "data": {
            "image/png": "[encoded data removed]",
            "text/plain": [
              "<Figure size 432x288 with 1 Axes>"
            ]
          },
          "metadata": {}
        }
      ]
    },
    {
      "cell_type": "markdown",
      "metadata": {
        "id": "jidaJnteTsbF"
      },
      "source": [
        "We can check that DG is strongly connected and not aperiodic"
      ]
    },
    {
      "cell_type": "code",
      "metadata": {
        "id": "RGASVjKcTsbF",
        "outputId": "75882e87-8ba3-4a09-c654-60b95ff0a2b3",
        "colab": {
          "base_uri": "https://localhost:8080/"
        }
      },
      "source": [
        "print(\"Is strongly connected:\",nx.is_strongly_connected(DG))\n",
        "print(\"Is aperiodic:\",nx.is_aperiodic(DG))"
      ],
      "execution_count": 109,
      "outputs": [
        {
          "output_type": "stream",
          "name": "stdout",
          "text": [
            "Is strongly connected: True\n",
            "Is aperiodic: False\n"
          ]
        }
      ]
    },
    {
      "cell_type": "markdown",
      "metadata": {
        "id": "y-l-PiPtTsbF"
      },
      "source": [
        "In view of these facts, compute the period of the graph DG.\n",
        "\n",
        "**Hint:** Exploit the results from previous exercise and the fact that all nodes of a strongly connected graph have the same period."
      ]
    },
    {
      "cell_type": "code",
      "metadata": {
        "id": "J8NNyE4-TsbF"
      },
      "source": [
        "# TO DO"
      ],
      "execution_count": 110,
      "outputs": []
    },
    {
      "cell_type": "code",
      "metadata": {
        "id": "iFtYdcuuTsbG"
      },
      "source": [
        ""
      ],
      "execution_count": 110,
      "outputs": []
    },
    {
      "cell_type": "code",
      "metadata": {
        "id": "0iBJXHiwTsbG"
      },
      "source": [
        ""
      ],
      "execution_count": 110,
      "outputs": []
    },
    {
      "cell_type": "code",
      "metadata": {
        "id": "xsmeYmxATsbG"
      },
      "source": [
        ""
      ],
      "execution_count": 110,
      "outputs": []
    },
    {
      "cell_type": "code",
      "metadata": {
        "id": "AnGNve5oTsbG"
      },
      "source": [
        ""
      ],
      "execution_count": 110,
      "outputs": []
    },
    {
      "cell_type": "code",
      "metadata": {
        "id": "qBfBHV_oTsbG"
      },
      "source": [
        ""
      ],
      "execution_count": 110,
      "outputs": []
    },
    {
      "cell_type": "code",
      "metadata": {
        "id": "jeUxdXiMTsbG"
      },
      "source": [
        ""
      ],
      "execution_count": 110,
      "outputs": []
    },
    {
      "cell_type": "code",
      "metadata": {
        "id": "9DDnE0zoTsbG"
      },
      "source": [
        ""
      ],
      "execution_count": 110,
      "outputs": []
    },
    {
      "cell_type": "code",
      "metadata": {
        "id": "bwLzHncwTsbH"
      },
      "source": [
        ""
      ],
      "execution_count": 110,
      "outputs": []
    },
    {
      "cell_type": "code",
      "metadata": {
        "id": "6O1IhJ0ITsbH"
      },
      "source": [
        ""
      ],
      "execution_count": 110,
      "outputs": []
    },
    {
      "cell_type": "code",
      "metadata": {
        "id": "TaTrRPG6TsbH"
      },
      "source": [
        ""
      ],
      "execution_count": 110,
      "outputs": []
    },
    {
      "cell_type": "code",
      "metadata": {
        "id": "-k1X1VJZTsbH"
      },
      "source": [
        ""
      ],
      "execution_count": 110,
      "outputs": []
    },
    {
      "cell_type": "code",
      "metadata": {
        "id": "CXz7zeLyTsbH"
      },
      "source": [
        ""
      ],
      "execution_count": 110,
      "outputs": []
    },
    {
      "cell_type": "code",
      "metadata": {
        "id": "b1fzl4yzTsbH"
      },
      "source": [
        ""
      ],
      "execution_count": 110,
      "outputs": []
    },
    {
      "cell_type": "code",
      "metadata": {
        "id": "MyvfvA4aTsbH"
      },
      "source": [
        ""
      ],
      "execution_count": 110,
      "outputs": []
    },
    {
      "cell_type": "code",
      "metadata": {
        "id": "XCgW1LrqTsbH"
      },
      "source": [
        ""
      ],
      "execution_count": 110,
      "outputs": []
    },
    {
      "cell_type": "code",
      "metadata": {
        "id": "60cfHlfFTsbH"
      },
      "source": [
        ""
      ],
      "execution_count": 110,
      "outputs": []
    },
    {
      "cell_type": "code",
      "metadata": {
        "id": "aqXZR9_nTsbI"
      },
      "source": [
        ""
      ],
      "execution_count": 110,
      "outputs": []
    },
    {
      "cell_type": "code",
      "metadata": {
        "id": "SRMPgLdYTsbI"
      },
      "source": [
        ""
      ],
      "execution_count": 110,
      "outputs": []
    },
    {
      "cell_type": "code",
      "metadata": {
        "id": "RNQwmO3UTsbI"
      },
      "source": [
        ""
      ],
      "execution_count": 110,
      "outputs": []
    },
    {
      "cell_type": "code",
      "metadata": {
        "id": "1JdW_f4ATsbI"
      },
      "source": [
        ""
      ],
      "execution_count": 110,
      "outputs": []
    },
    {
      "cell_type": "code",
      "metadata": {
        "id": "a34YggXITsbI"
      },
      "source": [
        ""
      ],
      "execution_count": 110,
      "outputs": []
    },
    {
      "cell_type": "code",
      "metadata": {
        "id": "L2xw9DbuTsbJ"
      },
      "source": [
        ""
      ],
      "execution_count": 110,
      "outputs": []
    },
    {
      "cell_type": "code",
      "metadata": {
        "id": "B4zN44yPTsbJ"
      },
      "source": [
        ""
      ],
      "execution_count": 110,
      "outputs": []
    },
    {
      "cell_type": "code",
      "metadata": {
        "id": "CGZdQy7qTsbJ"
      },
      "source": [
        ""
      ],
      "execution_count": 110,
      "outputs": []
    },
    {
      "cell_type": "code",
      "metadata": {
        "id": "DS40UeqJTsbJ"
      },
      "source": [
        ""
      ],
      "execution_count": 110,
      "outputs": []
    },
    {
      "cell_type": "markdown",
      "metadata": {
        "id": "fERAkG75TsbJ"
      },
      "source": [
        "#### Solutions"
      ]
    },
    {
      "cell_type": "code",
      "metadata": {
        "id": "I8iBp7SpTsbJ",
        "outputId": "eb022f1a-4886-4e04-edab-f6c2d0948524",
        "colab": {
          "base_uri": "https://localhost:8080/"
        }
      },
      "source": [
        "# EXERCISE 1\n",
        "\n",
        "cycles = tuple(nx.simple_cycles(DG))\n",
        "period = []\n",
        "\n",
        "for n in DG.nodes:\n",
        "    len_cycles_n = []\n",
        "    for cycle in cycles:\n",
        "        if n in cycle:\n",
        "            len_cycles_n.append(len(cycle))\n",
        "    GCD = len_cycles_n[0]\n",
        "    for l in len_cycles_n:\n",
        "        GCD = gcd(GCD,l)\n",
        "    period.append((n,GCD))\n",
        "        \n",
        "print(period)"
      ],
      "execution_count": 111,
      "outputs": [
        {
          "output_type": "stream",
          "name": "stdout",
          "text": [
            "[(0, 2), (1, 2), (2, 2), (3, 2), (4, 2), (5, 2), (6, 2), (7, 2), (8, 2), (9, 2)]\n"
          ]
        }
      ]
    },
    {
      "cell_type": "code",
      "metadata": {
        "id": "Z_-2NmEPTsbK",
        "outputId": "ed3e7ff0-8e5b-489c-a6eb-2dd532e0c763",
        "colab": {
          "base_uri": "https://localhost:8080/"
        }
      },
      "source": [
        "# EXERCISE 2\n",
        "\n",
        "cycles = tuple(nx.simple_cycles(DG))\n",
        "\n",
        "n=1\n",
        "len_cycles = []\n",
        "for cycle in cycles:\n",
        "    if 1 in cycle:\n",
        "        len_cycles.append(len(cycle))\n",
        "if len_cycles != []:\n",
        "    GCD = len_cycles[0]\n",
        "    for l in len_cycles:\n",
        "        GCD = gcd(GCD,l)\n",
        "    period = GCD\n",
        "else:\n",
        "    period = GCD\n",
        "        \n",
        "print(period)"
      ],
      "execution_count": 112,
      "outputs": [
        {
          "output_type": "stream",
          "name": "stdout",
          "text": [
            "2\n"
          ]
        }
      ]
    }
  ]
}
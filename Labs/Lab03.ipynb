{
  "nbformat": 4,
  "nbformat_minor": 0,
  "metadata": {
    "kernelspec": {
      "display_name": "Python 3",
      "language": "python",
      "name": "python3"
    },
    "language_info": {
      "codemirror_mode": {
        "name": "ipython",
        "version": 3
      },
      "file_extension": ".py",
      "mimetype": "text/x-python",
      "name": "python",
      "nbconvert_exporter": "python",
      "pygments_lexer": "ipython3",
      "version": "3.7.6"
    },
    "colab": {
      "name": "Lab03.ipynb",
      "provenance": [],
      "include_colab_link": true
    }
  },
  "cells": [
    {
      "cell_type": "markdown",
      "metadata": {
        "id": "view-in-github",
        "colab_type": "text"
      },
      "source": [
        "<a href=\"https://colab.research.google.com/github/andrerubeis/My-Projects/blob/main/Academic%20Projects/Network%20Dynamics/Labs/Lab03.ipynb\" target=\"_parent\"><img src=\"https://colab.research.google.com/assets/colab-badge.svg\" alt=\"Open In Colab\"/></a>"
      ]
    },
    {
      "cell_type": "markdown",
      "metadata": {
        "id": "dDY2IrIhXNHv"
      },
      "source": [
        "# Flows on graphs\n",
        "In this lab we present the Ford Fulkerson algorithm for finding the maximum admissible flow on a capacitated network.\n",
        "\n",
        "We then study max flow problems in multi origin-destination networks.\n",
        "\n",
        "We then explore connections between matching in bipartite graphs and maximum flow problems.\n",
        "\n",
        "If we have time, we will also introduce network flow optimization, and apply this framework for finding shortest paths in networks."
      ]
    },
    {
      "cell_type": "markdown",
      "metadata": {
        "id": "ERZAOXeIXNHy"
      },
      "source": [
        "**Credits**: this notebook was created by Leonardo Cianfanelli and Laura Arditti. The code for Ford-Fulkerson Algorithm is based on material that can be found on Wikipedia."
      ]
    },
    {
      "cell_type": "markdown",
      "metadata": {
        "id": "8njvLnqUXNHz"
      },
      "source": [
        "## Max Flow - Min Cut Theorem and the Ford Fulkerson algorithm\n",
        "It is given a graph $G = (V, E)$ which represents a flow network, and two vertices source ‘s’ and sink ‘t’ in it. Every edge $(u,v)$ has a capacity $c(u,v)$. We want to find the maximum possible flow from s to t with the following constraints:\n",
        "\n",
        "1. Flow on an edge doesn’t exceed the given capacity of the edge.\n",
        "2. Incoming flow is equal to outgoing flow for every vertex except s and t.\n",
        "\n",
        "The desired flow $f$ is constructed iteratively starting from a zero-flow vector: at each round of the algorithm $f$ is updated in such a way that the capacity and balance constraints are not violated.\n",
        "\n",
        "To do this, at each round, given the current flow vector $f$, we define the **residual network** $G_{f}(V,E_{f})$ to be the network with capacity $c_{f}(u,v)=c(u,v)-f(u,v)$. A search on the residual graph $G_f$ is performed to find an **augmenting path** (i.e., a path on the residual network with positive capacity on every edge of the path). If an augmenting path is found, this means that the current flow $f$ on that path can be increased.\n",
        "\n",
        "### Ford–Fulkerson Algorithm \n",
        "**Inputs**: a graph $G=(V,E)$, a vector of flow capacities $c = (c(u,v))_{(u,v) \\in E}$, a source node s, and a sink node t\n",
        "\n",
        "**Output**: a flow $f = (f(u,v))_{(u,v) \\in E}$ from s to t of maximum throughput\n",
        "\n",
        "1. $f(u,v)\\leftarrow 0$ for all edges $(u,v)$\n",
        "2. While there is a path p from s to t in $G_{f}$, such that $c_{f}(u,v)=c(u,v)-f(u,v)>0$ for all edges $(u,v)\\in p$:\n",
        " 1. Find $c_{f}(p)=\\min\\{c_{f}(u,v):(u,v)\\in p\\}$\n",
        " 2. For each edge $(u,v)\\in p:$\n",
        "      1. $f(u,v)\\leftarrow f(u,v)+c_{f}(p)$ (Increase the flow along the path)\n",
        "      2. $f(v,u)\\leftarrow f(v,u)-c_{f}(p)$ (Impose the symmetry of the flow)\n",
        "\n",
        "Ford-Fulkerson Algorithm is called a \"method\", instead of \"algorithm\", because it does not specify univocally how to select paths. The path in step 2 can be found, for example, with a breadth-first search (BFS) or a depth-first search in $G_{f}(V,E_{f})$. If you use the former, the algorithm is called Edmonds–Karp."
      ]
    },
    {
      "cell_type": "markdown",
      "metadata": {
        "id": "JklfNTYwXNH1"
      },
      "source": [
        "## Example: iterative Ford-Fulkerson by hand"
      ]
    },
    {
      "cell_type": "code",
      "metadata": {
        "id": "niVLSLl4XNH3",
        "outputId": "624bccbe-5efe-48c2-aa32-e38a79d42c7a",
        "colab": {
          "base_uri": "https://localhost:8080/",
          "height": 248
        }
      },
      "source": [
        "import numpy as np\n",
        "import networkx as nx\n",
        "import matplotlib.pyplot as plt\n",
        "%matplotlib inline\n",
        "\n",
        "G = nx.DiGraph()\n",
        "G.add_edges_from([(0,1),(0,2),(1,2),(1,3),(2,3)])\n",
        "\n",
        "pos = {0: (40, 20), 1: (60, 35), 2: (60, 5), 3: (80, 20)}\n",
        "\n",
        "labels = ['0/1000','0/1000','0/1','0/1000','0/1000']\n",
        "\n",
        "zip_operator = zip(G.edges(), labels)\n",
        "labels = dict(zip_operator)\n",
        "\n",
        "nx.draw_networkx_edge_labels(G,pos,edge_labels = labels)\n",
        "\n",
        "nx.draw(G, pos, with_labels = True)"
      ],
      "execution_count": 1,
      "outputs": [
        {
          "output_type": "display_data",
          "data": {
            "image/png": "[encoded data removed]",
            "text/plain": [
              "<Figure size 432x288 with 1 Axes>"
            ]
          },
          "metadata": {}
        }
      ]
    },
    {
      "cell_type": "markdown",
      "metadata": {
        "id": "A2Kh8LJYXNH7"
      },
      "source": [
        "We aim at finding the maximal flow from 0 to 3.\n",
        "\n",
        "The edge labels show the flow running along the edges and the capacity of the edges.\n",
        "\n",
        "We start with flow 0 on every path. \n",
        "\n",
        "0-1-2-3, 0-1-3 and 0-2-3 are augmenting paths\n",
        "\n",
        "We arbitrarly choose to add flow on 0-1-2-3.\n",
        "\n",
        "The capacity of 0-1-2-3 is the minimal capacity of the edges in the path, which is 1."
      ]
    },
    {
      "cell_type": "code",
      "metadata": {
        "id": "3ar838fHXNH8",
        "outputId": "c0c46ca5-f23c-499d-956f-02dac1fc9ef3",
        "colab": {
          "base_uri": "https://localhost:8080/",
          "height": 248
        }
      },
      "source": [
        "labels = ['1/1000','0/1000','1/1','0/1000','1/1000']\n",
        "\n",
        "colors = ['red','black','red','black','red']\n",
        "\n",
        "zip_operator = zip(G.edges(), labels)\n",
        "labels = dict(zip_operator)\n",
        "\n",
        "nx.draw_networkx_edge_labels(G,pos,edge_labels = labels)\n",
        "\n",
        "nx.draw(G, pos, with_labels = True, edge_color = colors)"
      ],
      "execution_count": 2,
      "outputs": [
        {
          "output_type": "display_data",
          "data": {
            "image/png": "[encoded data removed]",
            "text/plain": [
              "<Figure size 432x288 with 1 Axes>"
            ]
          },
          "metadata": {}
        }
      ]
    },
    {
      "cell_type": "markdown",
      "metadata": {
        "id": "2Kim6bUYXNH-"
      },
      "source": [
        "We update flows:\n",
        "- $f(0,1) = 1$\n",
        "- $f(1,0) = -1$ (symmetry)\n",
        "- $f(0,2) = 0$\n",
        "- $f(2,0) = 0$ (symmetry)\n",
        "- $f(1,2) = 1$\n",
        "- $f(2,1) = -1$ (symmetry),\n",
        "\n",
        "and so on, and capacities $c_f(i,j) = c(i,j) - f(i,j)$:\n",
        "- $c_f(0,1) = 1000-1 = 999$\n",
        "- $c_f(1,0) = 0-(-1) = 1$\n",
        "- $c_f(0,2) = 1000-0 = 1000$\n",
        "- $c_f(2,0) = 0-0 = 0$\n",
        "- $c_f(1,2) = 1-1 = 0$\n",
        "- $c_f(2,1) = 0-(-1) = 1$.\n",
        "\n",
        "Note that edges $(1,0)$ and $(2,1)$, which are not in the original network, have now positive residual capacity, meaning that we can allocate some flow on them. Intuitively speaking, by symmetry constraint, allocating some flow on $(2,1)$ means removing flow from $(1,2)$."
      ]
    },
    {
      "cell_type": "markdown",
      "metadata": {
        "id": "7pOqJHw3XNIA"
      },
      "source": [
        "We now proceed to iteratively updating flows. There are three augmenting paths: 0-1-3, 0-2-3, 0-2-1-3.\n",
        "\n",
        "We arbitrarly choose to allocate flow on the path 0-2-1-3.\n",
        "\n",
        "The maximum flow that can be allocated is 1, because of the residual capacity constraint of edge $(2,1)$."
      ]
    },
    {
      "cell_type": "code",
      "metadata": {
        "id": "xr7sNO8KXNIC",
        "outputId": "c9dc2195-a9e9-47fd-9612-2054bf9855a0",
        "colab": {
          "base_uri": "https://localhost:8080/",
          "height": 248
        }
      },
      "source": [
        "labels = ['1/1000','1/1000','0/1','1/1000','1/1000']\n",
        "\n",
        "colors = ['black','red','red','red','black']\n",
        "\n",
        "zip_operator = zip(G.edges(), labels)\n",
        "labels = dict(zip_operator)\n",
        "\n",
        "nx.draw_networkx_edge_labels(G,pos,edge_labels = labels)\n",
        "\n",
        "nx.draw(G, pos, with_labels = True, edge_color = colors)"
      ],
      "execution_count": 3,
      "outputs": [
        {
          "output_type": "display_data",
          "data": {
            "image/png": "[encoded data removed]",
            "text/plain": [
              "<Figure size 432x288 with 1 Axes>"
            ]
          },
          "metadata": {}
        }
      ]
    },
    {
      "cell_type": "markdown",
      "metadata": {
        "id": "caOUzC7kXNIE"
      },
      "source": [
        "After 1998 steps more..."
      ]
    },
    {
      "cell_type": "code",
      "metadata": {
        "id": "ACa0HH1EXNIF",
        "outputId": "ec2aa1f9-4477-4698-f991-e5a8d110d38a",
        "colab": {
          "base_uri": "https://localhost:8080/",
          "height": 248
        }
      },
      "source": [
        "labels = ['1000/1000','1000/1000','0/1','1000/1000','1000/1000']\n",
        "\n",
        "zip_operator = zip(G.edges(), labels)\n",
        "labels = dict(zip_operator)\n",
        "\n",
        "nx.draw_networkx_edge_labels(G,pos,edge_labels = labels)\n",
        "\n",
        "nx.draw(G, pos, with_labels = True)"
      ],
      "execution_count": 4,
      "outputs": [
        {
          "output_type": "display_data",
          "data": {
            "image/png": "[encoded data removed]",
            "text/plain": [
              "<Figure size 432x288 with 1 Axes>"
            ]
          },
          "metadata": {}
        }
      ]
    },
    {
      "cell_type": "markdown",
      "metadata": {
        "id": "OOQQChxZXNIG"
      },
      "source": [
        "There are no longer augmenting paths with residual capacity in the network.\n",
        "\n",
        "Thus, the resulting flows correspond to the maximal flow that can be send from 0 to 3.\n",
        "\n",
        "The maximal throughput that can be send from 0 to 3 is 2000. We can verify this by using NetworkX methods."
      ]
    },
    {
      "cell_type": "code",
      "metadata": {
        "id": "0DrEXVNPXNIH",
        "outputId": "d5d30b57-f457-4577-a780-08c706879dc7",
        "colab": {
          "base_uri": "https://localhost:8080/"
        }
      },
      "source": [
        "# assign feature 'capacity' to every edge, and use networkX method for maximum flow\n",
        "\n",
        "G[0][1]['capacity'] = 1000\n",
        "G[0][2]['capacity'] = 1000\n",
        "G[1][2]['capacity'] = 1\n",
        "G[1][3]['capacity'] = 1000\n",
        "G[2][3]['capacity'] = 1000\n",
        "\n",
        "nx.algorithms.flow.maximum_flow(G,0,3)"
      ],
      "execution_count": 5,
      "outputs": [
        {
          "output_type": "execute_result",
          "data": {
            "text/plain": [
              "(2000, {0: {1: 1000, 2: 1000}, 1: {2: 0, 3: 1000}, 2: {3: 1000}, 3: {}})"
            ]
          },
          "metadata": {},
          "execution_count": 5
        }
      ]
    },
    {
      "cell_type": "markdown",
      "metadata": {
        "id": "tor3yd9VXNIH"
      },
      "source": [
        "As you have seen, the convergence of the Ford-Fulkerson algorithm may be slow. This depends crucially on the sequence of augmenting paths that we choose. However, the algorithm is guaranteed to converge in finite steps if the capacities are rational numbers.\n",
        "\n",
        "We draw the initial graph."
      ]
    },
    {
      "cell_type": "code",
      "metadata": {
        "id": "1JYIOdrEXNII",
        "outputId": "4d23e250-6324-4c26-9a8b-c15c91d147fb",
        "colab": {
          "base_uri": "https://localhost:8080/",
          "height": 248
        }
      },
      "source": [
        "G = nx.DiGraph()\n",
        "G.add_edges_from([(0,1),(0,2),(1,2),(1,3),(2,3)])\n",
        "\n",
        "pos = {0: (40, 20), 1: (60, 35), 2: (60, 5), 3: (80, 20)}\n",
        "\n",
        "labels = ['0/1000','0/1000','0/1','0/1000','0/1000']\n",
        "\n",
        "zip_operator = zip(G.edges(), labels)\n",
        "labels = dict(zip_operator)\n",
        "\n",
        "nx.draw_networkx_edge_labels(G,pos,edge_labels = labels)\n",
        "\n",
        "nx.draw(G, pos, with_labels = True)"
      ],
      "execution_count": 6,
      "outputs": [
        {
          "output_type": "display_data",
          "data": {
            "image/png": "[encoded data removed]",
            "text/plain": [
              "<Figure size 432x288 with 1 Axes>"
            ]
          },
          "metadata": {}
        }
      ]
    },
    {
      "cell_type": "markdown",
      "metadata": {
        "id": "UlgmHw_CXNII"
      },
      "source": [
        "Let us use another sequence of augmenting paths.\n",
        "\n",
        "We start allocating flow on the path 0-1-3, with residual capacity equal to 1000."
      ]
    },
    {
      "cell_type": "code",
      "metadata": {
        "id": "5qj2CFX3XNII",
        "outputId": "ad9c1488-c448-4424-a4d8-620510d3b477",
        "colab": {
          "base_uri": "https://localhost:8080/",
          "height": 248
        }
      },
      "source": [
        "labels = ['1000/1000','0/1000','0/1','1000/1000','0/1000']\n",
        "\n",
        "colors = ['red','black','black','red','black']\n",
        "\n",
        "zip_operator = zip(G.edges(), labels)\n",
        "labels = dict(zip_operator)\n",
        "\n",
        "nx.draw_networkx_edge_labels(G,pos,edge_labels = labels)\n",
        "\n",
        "nx.draw(G, pos, with_labels = True, edge_color = colors)"
      ],
      "execution_count": 7,
      "outputs": [
        {
          "output_type": "display_data",
          "data": {
            "image/png": "[encoded data removed]",
            "text/plain": [
              "<Figure size 432x288 with 1 Axes>"
            ]
          },
          "metadata": {}
        }
      ]
    },
    {
      "cell_type": "markdown",
      "metadata": {
        "id": "zS220b4hXNIJ"
      },
      "source": [
        "There is now only an augmenting path, which is 0-2-3, with residual capacity equal to 1000"
      ]
    },
    {
      "cell_type": "code",
      "metadata": {
        "id": "I8c_UZh9XNIJ",
        "outputId": "11cc41d3-c300-40fb-a95c-c37187ea6819",
        "colab": {
          "base_uri": "https://localhost:8080/",
          "height": 248
        }
      },
      "source": [
        "labels = ['1000/1000','1000/1000','0/1','1000/1000','1000/1000']\n",
        "\n",
        "colors = ['black','red','black','black','red']\n",
        "\n",
        "zip_operator = zip(G.edges(), labels)\n",
        "labels = dict(zip_operator)\n",
        "\n",
        "nx.draw_networkx_edge_labels(G,pos,edge_labels = labels)\n",
        "\n",
        "nx.draw(G, pos, with_labels = True, edge_color = colors)"
      ],
      "execution_count": 8,
      "outputs": [
        {
          "output_type": "display_data",
          "data": {
            "image/png": "[encoded data removed]",
            "text/plain": [
              "<Figure size 432x288 with 1 Axes>"
            ]
          },
          "metadata": {}
        }
      ]
    },
    {
      "cell_type": "markdown",
      "metadata": {
        "id": "nzJfegf2XNIJ"
      },
      "source": [
        "There are not augmenting paths in the network, thus we have found the maximal flow in only 2 steps."
      ]
    },
    {
      "cell_type": "markdown",
      "metadata": {
        "id": "NKqRoLN4XNIJ"
      },
      "source": [
        "### Edmonds-Karp Algorithm\n",
        "The Edmonds–Karp algorithm is an implementation of Ford–Fulkerson algorithm, where the search order when finding the augmenting path is defined. A shortest path that has available capacity is found by a breadth-first search."
      ]
    },
    {
      "cell_type": "code",
      "metadata": {
        "id": "tzCd65XWXNIK"
      },
      "source": [
        "import collections\n",
        "\n",
        "# This class represents a directed graph using adjacency matrix representation\n",
        "class Graph:\n",
        "    # __init__ is a reseved method in python classes.\n",
        "    # In object oriented terminology, it is the constructor of the class.\n",
        "    # We define a new class 'graph' instead of using the NetworkX package.\n",
        "    def __init__(self, graph): \n",
        "        # the Graph object represents the flow network and the graph\n",
        "        # attribute will be updated by the Edmonds-Karp Algorithm to \n",
        "        # represent the residual graph.\n",
        "        # Entry [u][v] of graph array stores the capacity of link (u,v).\n",
        "        self.graph = graph  \n",
        "        # Number of nodes:\n",
        "        self.ROW = len(graph)\n",
        "\n",
        "    def bfs(self, s, t, parent):\n",
        "        \"\"\"Returns true if there is a path from source 's' to sink 't' in the\n",
        "        residual graph. Also fills parent[] to store the path \"\"\"\n",
        "        # Mark all the vertices as not visited\n",
        "        visited = [False] * (self.ROW)\n",
        "\n",
        "        # Create a double-ended queue for BFS\n",
        "        queue = collections.deque()\n",
        "\n",
        "        # Mark the source node as visited and enqueue it\n",
        "        # When visited, nodes are appended \"to the right end\" of the queue.\n",
        "        queue.append(s)\n",
        "        visited[s] = True\n",
        "\n",
        "        # Standard BFS loop\n",
        "        while queue: # while there are still elements in the queue\n",
        "            # Nodes are extracted from \"the left end\" of the queue\n",
        "            u = queue.popleft()\n",
        "\n",
        "            # Get all adjacent vertices of the dequeued vertex u\n",
        "            # If an adjacent vertex has not been visited, then mark \n",
        "            # it as visited and enqueue it.\n",
        "            \n",
        "            # Enumerate() method adds a counter to an iterable\n",
        "            # to keep a count of iterations. We cycle over row\n",
        "            # u of graph array: ind is the index of the node,\n",
        "            # val is >0 if node ind is adjacent to u, i.e. if \n",
        "            # there is residual capacity on the link (u,ind),\n",
        "            # it is 0 otherwise.\n",
        "            for ind, val in enumerate(self.graph[u]): \n",
        "                if (visited[ind] == False) and (val > 0):\n",
        "                    queue.append(ind)\n",
        "                    visited[ind] = True\n",
        "                    parent[ind] = u\n",
        "\n",
        "        # If sink is reached by BFS starting from source, then return\n",
        "        # true, else return false\n",
        "        return visited[t]\n",
        "\n",
        "    # Returns the maximum flow from s to t in the given graph\n",
        "    def edmonds_karp(self, source, sink):\n",
        "        # parent array is filled by bfs() and it is used \n",
        "        # to compute augmenting paths.\n",
        "        # It is initialized with the sentinel value -1\n",
        "        parent = [-1] * (self.ROW)\n",
        "\n",
        "        # Both max flow value and max flow vector are \n",
        "        # initialized to 0\n",
        "        max_flow = 0  \n",
        "        # initialize matrix of zeros with size ROW x ROW\n",
        "        flow = np.array([[0] * (self.ROW)] * (self.ROW))\n",
        "\n",
        "        # Augment the flow while there is a path from source to sink\n",
        "        # in the residual graph\n",
        "        while self.bfs(source, sink, parent): # the algorithm stops when there are augmenting paths from s to t\n",
        "            # now parent stores the augmenting path found by bfs\n",
        "\n",
        "            # Find the minimum residual capacity of the edges along the\n",
        "            # origin-destination path found by BFS.\n",
        "            res_capacity = float(\"Inf\")\n",
        "            # start from the endpoint of the path\n",
        "            n = sink\n",
        "            # travel the path backwards until you reach the source\n",
        "            # and update the minimal residual capacity of links\n",
        "            while n != source:\n",
        "                res_capacity = min(res_capacity, self.graph[parent[n]][n])\n",
        "                n = parent[n] \n",
        "\n",
        "            # Add the residual capacity to the maximal throughput\n",
        "            max_flow += res_capacity\n",
        "\n",
        "            # Update the flow vector by adding the residual capacity\n",
        "            # of the augmenting path to each edge in the path (to preserve\n",
        "            # symmetry, subtract it to each reverse edge).\n",
        "            # Compute the new residual network by updating\n",
        "            # the residual capacities of the edges and reverse edges\n",
        "            # along the augmenting path.\n",
        "            v = sink\n",
        "            while v != source:\n",
        "                u = parent[v]\n",
        "                flow[u][v] += res_capacity\n",
        "                flow[v][u] -= res_capacity\n",
        "                self.graph[u][v] -= res_capacity\n",
        "                self.graph[v][u] += res_capacity\n",
        "                v = parent[v]  \n",
        "            \n",
        "        return max_flow, flow"
      ],
      "execution_count": 9,
      "outputs": []
    },
    {
      "cell_type": "markdown",
      "metadata": {
        "id": "BSxl_1fGXNIL"
      },
      "source": [
        "Networkx implements the Edmonds-Karp algorithm. \n",
        "\n",
        "The `networkx.algorithms.flow.edmonds_karp` function returns the residual network resulting after computing the maximum flow.\n",
        "\n",
        "Networkx also provides the functions `networkx.algorithms.flow.maximum_flow` and `networkx.algorithms.flow.minimum_cut` which compute the maximun throughput and  the value and the node partition of a minimum cut, respectively."
      ]
    },
    {
      "cell_type": "markdown",
      "metadata": {
        "id": "z8ZSSATeXNIM"
      },
      "source": [
        "### Exercise\n",
        "1. Construct the graph of the example above, and assume the link capacities defined therin.\n",
        "2. Apply the above implementation of the Edmonds-Karp algorithm to find the maximum throughput between the origin and destination nodes.\n",
        "3. Compare the result to the flow found with `maximum_flow` and check that it is equal to the min-cut capacity of the graph found with `min_cut`."
      ]
    },
    {
      "cell_type": "code",
      "metadata": {
        "id": "gncN4l11XNIM",
        "outputId": "0f4daa24-f8c6-4929-e8e3-333a66d2152c",
        "colab": {
          "base_uri": "https://localhost:8080/"
        }
      },
      "source": [
        "W = np.array([[0,1000,1000,0],[0,0,1,1000],[0,0,0,1000],[0,0,0,0]])\n",
        "G = Graph(W)\n",
        "\n",
        "max_flow, flow = Graph.edmonds_karp(G,0,3)\n",
        "\n",
        "print(\"The maximum flow:\", max_flow, \"\\n\")\n",
        "print(\"The flow distribution: \\n\", flow)"
      ],
      "execution_count": 10,
      "outputs": [
        {
          "output_type": "stream",
          "name": "stdout",
          "text": [
            "The maximum flow: 2000 \n",
            "\n",
            "The flow distribution: \n",
            " [[    0  1000  1000     0]\n",
            " [-1000     0     0  1000]\n",
            " [-1000     0     0  1000]\n",
            " [    0 -1000 -1000     0]]\n"
          ]
        }
      ]
    },
    {
      "cell_type": "markdown",
      "metadata": {
        "id": "fCp5vbszXNIM"
      },
      "source": [
        "Let us explore the steps of the algorithm by adding some \"print\" in the code."
      ]
    },
    {
      "cell_type": "code",
      "metadata": {
        "id": "gzkWdoduXNIM"
      },
      "source": [
        "class Graph_print:\n",
        "    # __init__ is a reseved method in python classes.\n",
        "    # In object oriented terminology, it is the constructor of the class.\n",
        "    # We define a new class 'graph' instead of using the NetworkX package.\n",
        "    def __init__(self, graph): \n",
        "        # the Graph object represents the flow network and the graph\n",
        "        # attribute will be updated by the Edmonds-Karp Algorithm to \n",
        "        # represent the residual graph.\n",
        "        # Entry [u][v] of graph array stores the capacity of link (u,v).\n",
        "        self.graph = graph  \n",
        "        # Number of nodes:\n",
        "        self.ROW = len(graph)\n",
        "\n",
        "    def bfs(self, s, t, parent):\n",
        "        \"\"\"Returns true if there is a path from source 's' to sink 't' in the\n",
        "        residual graph. Also fills parent[] to store the path \"\"\"\n",
        "        # Mark all the vertices as not visited\n",
        "        visited = [False] * (self.ROW)\n",
        "\n",
        "        # Create a double-ended queue for BFS\n",
        "        queue = collections.deque()\n",
        "\n",
        "        # Mark the source node as visited and enqueue it\n",
        "        # When visited, nodes are appended \"to the right end\" of the queue.\n",
        "        queue.append(s)\n",
        "        visited[s] = True\n",
        "\n",
        "        # Standard BFS loop\n",
        "        while queue: # while there are still elements in the queue\n",
        "            # Nodes are extracted from \"the left end\" of the queue\n",
        "            print(\"Queue:\", queue, \"\\n\")\n",
        "            u = queue.popleft()\n",
        "            print(\"Extracted node:\", u, \"\\n\")\n",
        "\n",
        "            # Get all adjacent vertices of the dequeued vertex u\n",
        "            # If an adjacent vertex has not been visited, then mark \n",
        "            # it as visited and enqueue it.\n",
        "            \n",
        "            # Enumerate() method adds a counter to an iterable\n",
        "            # to keep a count of iterations. We cycle over row\n",
        "            # u of graph array: ind is the index of the node,\n",
        "            # val is >0 if node ind is adjacent to u, i.e. if \n",
        "            # there is residual capacity on the link (u,ind),\n",
        "            # it is 0 otherwise.\n",
        "            for ind, val in enumerate(self.graph[u]): \n",
        "                if (visited[ind] == False) and (val > 0):\n",
        "                    queue.append(ind)\n",
        "                    visited[ind] = True\n",
        "                    parent[ind] = u\n",
        "            \n",
        "            print(\"Parents\", parent, \"\\n\")\n",
        "            print(\"Visited\", visited, \"\\n \\n \\n\")\n",
        "\n",
        "        # If sink is reached by BFS starting from source, then return\n",
        "        # true, else return false\n",
        "        return visited[t]\n",
        "\n",
        "    # Returns the maximum flow from s to t in the given graph\n",
        "    def edmonds_karp(self, source, sink):\n",
        "        n_iter = 1\n",
        "        print(\"iteration of bfs number:\", n_iter, \"\\n\")\n",
        "        # parent array is filled by bfs() and it is used \n",
        "        # to compute augmenting paths.\n",
        "        # It is initialized with the sentinel value -1\n",
        "        parent = [-1] * (self.ROW)\n",
        "\n",
        "        # Both max flow value and max flow vector are \n",
        "        # initialized to 0\n",
        "        max_flow = 0  \n",
        "        # initialize matrix of zeros with size ROW x ROW\n",
        "        flow = np.array([[0] * (self.ROW)] * (self.ROW))\n",
        "\n",
        "        # Augment the flow while there is a path from source to sink\n",
        "        # in the residual graph\n",
        "        while self.bfs(source, sink, parent): # the algorithm stops when there are augmenting paths from s to t\n",
        "            # now parent stores the augmenting path found by bfs\n",
        "\n",
        "            # Find the minimum residual capacity of the edges along the\n",
        "            # origin-destination path found by BFS.\n",
        "            res_capacity = float(\"Inf\")\n",
        "            # start from the endpoint of the path\n",
        "            n = sink\n",
        "            # travel the path backwards until you reach the source\n",
        "            # and update the minimal residual capacity of links\n",
        "            while n != source:\n",
        "                res_capacity = min(res_capacity, self.graph[parent[n]][n])\n",
        "                n = parent[n] \n",
        "\n",
        "            # Add the residual capacity to the maximal throughput\n",
        "            max_flow += res_capacity\n",
        "\n",
        "            # Update the flow vector by adding the residual capacity\n",
        "            # of the augmenting path to each edge in the path (to preserve\n",
        "            # symmetry, subtract it to each reverse edge).\n",
        "            # Compute the new residual network by updating\n",
        "            # the residual capacities of the edges and reverse edges\n",
        "            # along the augmenting path.\n",
        "            v = sink\n",
        "            while v != source:\n",
        "                u = parent[v]\n",
        "                flow[u][v] += res_capacity\n",
        "                flow[v][u] -= res_capacity\n",
        "                self.graph[u][v] -= res_capacity\n",
        "                self.graph[v][u] += res_capacity\n",
        "                v = parent[v]  \n",
        "            n_iter += 1\n",
        "            print(\"iteration of bfs number:\", n_iter, \"\\n\")\n",
        "            \n",
        "        return max_flow, flow"
      ],
      "execution_count": 11,
      "outputs": []
    },
    {
      "cell_type": "code",
      "metadata": {
        "id": "L6fqorOFXNIN",
        "outputId": "5ee65787-63dc-4516-9181-0232c1dc386b",
        "colab": {
          "base_uri": "https://localhost:8080/"
        }
      },
      "source": [
        "W = np.array([[0,1000,1000,0],[0,0,1,1000],[0,0,0,1000],[0,0,0,0]])\n",
        "G = Graph_print(W)\n",
        "\n",
        "max_flow, flow = Graph_print.edmonds_karp(G,0,3)"
      ],
      "execution_count": 12,
      "outputs": [
        {
          "output_type": "stream",
          "name": "stdout",
          "text": [
            "iteration of bfs number: 1 \n",
            "\n",
            "Queue: deque([0]) \n",
            "\n",
            "Extracted node: 0 \n",
            "\n",
            "Parents [-1, 0, 0, -1] \n",
            "\n",
            "Visited [True, True, True, False] \n",
            " \n",
            " \n",
            "\n",
            "Queue: deque([1, 2]) \n",
            "\n",
            "Extracted node: 1 \n",
            "\n",
            "Parents [-1, 0, 0, 1] \n",
            "\n",
            "Visited [True, True, True, True] \n",
            " \n",
            " \n",
            "\n",
            "Queue: deque([2, 3]) \n",
            "\n",
            "Extracted node: 2 \n",
            "\n",
            "Parents [-1, 0, 0, 1] \n",
            "\n",
            "Visited [True, True, True, True] \n",
            " \n",
            " \n",
            "\n",
            "Queue: deque([3]) \n",
            "\n",
            "Extracted node: 3 \n",
            "\n",
            "Parents [-1, 0, 0, 1] \n",
            "\n",
            "Visited [True, True, True, True] \n",
            " \n",
            " \n",
            "\n",
            "iteration of bfs number: 2 \n",
            "\n",
            "Queue: deque([0]) \n",
            "\n",
            "Extracted node: 0 \n",
            "\n",
            "Parents [-1, 0, 0, 1] \n",
            "\n",
            "Visited [True, False, True, False] \n",
            " \n",
            " \n",
            "\n",
            "Queue: deque([2]) \n",
            "\n",
            "Extracted node: 2 \n",
            "\n",
            "Parents [-1, 0, 0, 2] \n",
            "\n",
            "Visited [True, False, True, True] \n",
            " \n",
            " \n",
            "\n",
            "Queue: deque([3]) \n",
            "\n",
            "Extracted node: 3 \n",
            "\n",
            "Parents [-1, 3, 0, 2] \n",
            "\n",
            "Visited [True, True, True, True] \n",
            " \n",
            " \n",
            "\n",
            "Queue: deque([1]) \n",
            "\n",
            "Extracted node: 1 \n",
            "\n",
            "Parents [-1, 3, 0, 2] \n",
            "\n",
            "Visited [True, True, True, True] \n",
            " \n",
            " \n",
            "\n",
            "iteration of bfs number: 3 \n",
            "\n",
            "Queue: deque([0]) \n",
            "\n",
            "Extracted node: 0 \n",
            "\n",
            "Parents [-1, 3, 0, 2] \n",
            "\n",
            "Visited [True, False, False, False] \n",
            " \n",
            " \n",
            "\n"
          ]
        }
      ]
    },
    {
      "cell_type": "markdown",
      "metadata": {
        "id": "RDh21pspXNIN"
      },
      "source": [
        "# Multi origin-destination maxflow"
      ]
    },
    {
      "cell_type": "markdown",
      "metadata": {
        "id": "ALCksCfyXNIN"
      },
      "source": [
        "So far, we have studied maximum flow problems when there is a single origin-destination pair. \n",
        "\n",
        "For some applications, it is useful to find maximum flow with multiple origin-destinations.\n",
        "\n",
        "The multi o-d maxflow problem may be rephrased in terms of single o-d maxflow problem, and then handled with the instruments introduced above. Let us see this by an example."
      ]
    },
    {
      "cell_type": "code",
      "metadata": {
        "id": "h7QcRlpIXNIN",
        "outputId": "0868979e-4011-4664-d5b7-07f76295944c",
        "colab": {
          "base_uri": "https://localhost:8080/",
          "height": 248
        }
      },
      "source": [
        "G = nx.DiGraph()\n",
        "G.add_edges_from([(0,2),(0,1),(2,4),(1,3),(2,5),(3,4),(4,5),(1,4),(1,5)])\n",
        "\n",
        "pos = {0: [0,2], 1: [1,0], 2: [1,3], 3: [3,0], 4: [3,2], 5:[1,2] }\n",
        "\n",
        "nx.draw_networkx_edge_labels(G,pos,edge_labels={(0,1):'4',\n",
        "(0,2):'6',(2,4):'2',(2,5):'5',\n",
        "(3,4):'6', (4,5):'1', (1,3):'2', (1,4):'3', (1,5): ' 5'},font_color='blue')\n",
        "\n",
        "nx.draw(G, pos, with_labels = True)"
      ],
      "execution_count": 13,
      "outputs": [
        {
          "output_type": "display_data",
          "data": {
            "image/png": "[encoded data removed]",
            "text/plain": [
              "<Figure size 432x288 with 1 Axes>"
            ]
          },
          "metadata": {}
        }
      ]
    },
    {
      "cell_type": "markdown",
      "metadata": {
        "id": "WffkPW6VXNIO"
      },
      "source": [
        "Consider sources $\\{0,1\\}$ and sinks $\\{4,5\\}$. To reconduct the problem to a single source and sink, an equivalent problem is to add an additional pair of nodes 'S' and 'T', and add edges from 'S' to every source of the original network, and from every sink of the original network to 'T', with infinite capacity.\n",
        "\n",
        "For simplicity, let us call 6 and 7 the new nodes.\n",
        "\n",
        "We define the resulting network for this example."
      ]
    },
    {
      "cell_type": "code",
      "metadata": {
        "id": "_jcecF_wXNIO",
        "outputId": "ffdc34ee-429c-4ad3-ccde-cb8058a74007",
        "colab": {
          "base_uri": "https://localhost:8080/",
          "height": 248
        }
      },
      "source": [
        "G1 = nx.DiGraph()\n",
        "G1.add_edges_from([(0,2),(0,1),(2,4),(1,3),(2,5),(3,4),(4,5),(1,4),(1,5)])\n",
        "\n",
        "# add additional nodes and edges\n",
        "G1.add_edges_from([(6,0),(6,1),(4,7),(5,7)])\n",
        "\n",
        "# define position for the two new nodes\n",
        "pos = {0: [0,2], 1: [1,0], 2: [1,3], 3: [3,0], 4: [3,2], 5:[1,2], 6:[-1,1], 7:[2,0.5]}\n",
        "\n",
        "nx.draw_networkx_edge_labels(G,pos,edge_labels={(0,1):'4',\n",
        "(0,2):'6',(2,4):'2',(2,5):'5',\n",
        "(3,4):'6', (4,5):'1', (1,3):'2', (1,4):'3', (1,5): ' 5',\n",
        "(6,0):'inf',(6,1):'inf',(4,7):'inf',(5,7):'inf'},font_color='blue')\n",
        "\n",
        "nx.draw(G1, pos, with_labels = True)"
      ],
      "execution_count": 14,
      "outputs": [
        {
          "output_type": "display_data",
          "data": {
            "image/png": "[encoded data removed]",
            "text/plain": [
              "<Figure size 432x288 with 1 Axes>"
            ]
          },
          "metadata": {}
        }
      ]
    },
    {
      "cell_type": "code",
      "metadata": {
        "id": "XANfy5ztXNIT",
        "outputId": "b67373b7-933b-4efb-a164-cde7c80b3ee2",
        "colab": {
          "base_uri": "https://localhost:8080/"
        }
      },
      "source": [
        "# We define the capacities, and use NetworkX algorithms to compute maximum flow\n",
        "\n",
        "G1[0][2]['capacity'] = 6\n",
        "G1[0][1]['capacity'] = 4\n",
        "G1[2][4]['capacity'] = 4\n",
        "G1[2][5]['capacity'] = 5\n",
        "G1[3][4]['capacity'] = 6\n",
        "G1[4][5]['capacity'] = 1\n",
        "G1[1][3]['capacity'] = 2\n",
        "G1[1][4]['capacity'] = 3\n",
        "G1[1][5]['capacity'] = 5\n",
        "# call S = 6, and T = 7, and assign infinite capacity\n",
        "G1[6][0]['capacity'] = float('inf')\n",
        "G1[6][1]['capacity'] = float('inf')\n",
        "G1[4][7]['capacity'] = float('inf')\n",
        "G1[5][7]['capacity'] = float('inf')\n",
        "\n",
        "nx.algorithms.flow.maximum_flow(G1,6,7)"
      ],
      "execution_count": 15,
      "outputs": [
        {
          "output_type": "execute_result",
          "data": {
            "text/plain": [
              "(16,\n",
              " {0: {1: 4, 2: 6},\n",
              "  1: {3: 2, 4: 3, 5: 5},\n",
              "  2: {4: 4, 5: 2},\n",
              "  3: {4: 2},\n",
              "  4: {5: 0, 7: 9},\n",
              "  5: {7: 7},\n",
              "  6: {0: 10, 1: 6},\n",
              "  7: {}})"
            ]
          },
          "metadata": {},
          "execution_count": 15
        }
      ]
    },
    {
      "cell_type": "code",
      "metadata": {
        "id": "Q2F8sNIlXNIU",
        "outputId": "6f5609ed-0f0a-474a-ccbf-3fff1da699cd",
        "colab": {
          "base_uri": "https://localhost:8080/"
        }
      },
      "source": [
        "# compute also the minimum cut\n",
        "nx.algorithms.flow.minimum_cut(G1,6,7)"
      ],
      "execution_count": 16,
      "outputs": [
        {
          "output_type": "execute_result",
          "data": {
            "text/plain": [
              "(16, ({0, 1, 6}, {2, 3, 4, 5, 7}))"
            ]
          },
          "metadata": {},
          "execution_count": 16
        }
      ]
    },
    {
      "cell_type": "markdown",
      "metadata": {
        "id": "L9n7bPIwXNIU"
      },
      "source": [
        "As expected, the minimum cut equals the maximal flow."
      ]
    },
    {
      "cell_type": "markdown",
      "metadata": {
        "id": "QwlDiPAMXNIV"
      },
      "source": [
        "# Application of multi o-d maxflow problems: perfect matching"
      ]
    },
    {
      "cell_type": "markdown",
      "metadata": {
        "id": "PyfdHWzYXNIV"
      },
      "source": [
        "**Definition**: given a graph $G=(V,E)$, a matching is a subset of edges $M \\subseteq E$ such that no two edges in $M$ share a common node (head or tail).\n",
        "\n",
        "**Definition**: Consider a simple bipartite graph, whereby the node set can be partitioned as $V = V_0 \\cup V_1$, with $V_0 \\cap V_1 = \\emptyset$, and no edges between $V_0$ and $V_1$ exist. For $h = 0,1$, we shall refer to a matching $M$ in $G$ as $V_h$-perfect (or $V_h$-saturating) if every node in $V_h$ is matched in $M$.\n",
        "\n",
        "### Example"
      ]
    },
    {
      "cell_type": "code",
      "metadata": {
        "id": "4lGZbkllXNIV",
        "outputId": "9e92d504-fc33-4dde-f392-311d1903f9c8",
        "colab": {
          "base_uri": "https://localhost:8080/",
          "height": 319
        }
      },
      "source": [
        "G = nx.Graph()\n",
        "G.add_edges_from([(0,2),(0,3),(1,3),(1,4)])\n",
        "\n",
        "pos = {0:[0,2], 1:[0,0], 2:[2,3], 3:[2,1], 4:[2,-1]}\n",
        "\n",
        "nx.draw(G, pos, with_labels=True)"
      ],
      "execution_count": 17,
      "outputs": [
        {
          "output_type": "display_data",
          "data": {
            "image/png": "[encoded data removed]",
            "text/plain": [
              "<Figure size 432x288 with 1 Axes>"
            ]
          },
          "metadata": {}
        }
      ]
    },
    {
      "cell_type": "markdown",
      "metadata": {
        "id": "sT8z8cs4XNIV"
      },
      "source": [
        "We immediately observe that the graph is bipartite, with $V_0 = \\{0,1\\}, V_1 = \\{2,3,4\\}$.\n",
        "\n",
        "We now show a $V_0$-perfect matching, i.e., a matching that matches every node in $V_0$"
      ]
    },
    {
      "cell_type": "code",
      "metadata": {
        "id": "crtTDEAWXNIV",
        "outputId": "9692b126-ceea-4585-faf9-0753f010fdcb",
        "colab": {
          "base_uri": "https://localhost:8080/",
          "height": 319
        }
      },
      "source": [
        "G = nx.Graph()\n",
        "G.add_edges_from([(0,2),(1,3)])\n",
        "G.add_node(4)\n",
        "\n",
        "pos = {0:[0,2], 1:[0,0], 2:[2,3], 3:[2,1], 4:[2,-1]}\n",
        "\n",
        "nx.draw(G, pos, with_labels=True)"
      ],
      "execution_count": 18,
      "outputs": [
        {
          "output_type": "display_data",
          "data": {
            "image/png": "[encoded data removed]",
            "text/plain": [
              "<Figure size 432x288 with 1 Axes>"
            ]
          },
          "metadata": {}
        }
      ]
    },
    {
      "cell_type": "markdown",
      "metadata": {
        "id": "r2JwxYZ9XNIV"
      },
      "source": [
        "**Question**: can you find a $V_1$ perfect matching?"
      ]
    },
    {
      "cell_type": "markdown",
      "metadata": {
        "id": "AGjtDhG5XNIW"
      },
      "source": [
        "**Hall's marriage Theorem**: for a simple bipartite graph $G = (V,E)$ and $V_0 \\subseteq V$, there exists a $V_0$-perfect matching in $G$ if and only if\n",
        "\n",
        "$$\n",
        "|\\mathcal{U}| \\le |\\mathcal{N}_{\\mathcal{U}}| \\quad \\forall \\mathcal{U} \\subseteq V_0,\n",
        "$$\n",
        "\n",
        "where\n",
        "$$\n",
        "\\mathcal{N}_{\\mathcal{U}} = \\sum_{i \\in \\mathcal{U}} \\mathcal{N}_i\n",
        "$$\n",
        "is the neighborhood of $\\mathcal{U}$ in $G$."
      ]
    },
    {
      "cell_type": "markdown",
      "metadata": {
        "id": "svaMwVsFXNIW"
      },
      "source": [
        "In other words, for every subset $U$ of $V_0$, we require that $U$ possesses a number of neighboring nodes which is at least the number of nodes in $U$. The necessity of such condition is trivial to verify, for the sufficiency we refer to the lecture notes.\n",
        "\n",
        "We here focus on the algorithmic viewpoint of matching problems and on applications."
      ]
    },
    {
      "cell_type": "markdown",
      "metadata": {
        "id": "72AY7PnVXNIW"
      },
      "source": [
        "**Application, example**: assume there are 5 people and 5 books, and each person expresses interest in some of the books. Is there a way to assign to every person a book of interest?\n",
        "\n",
        "We can represent this situation by a simple bipartite network, where $V_0$ is the set of people and $V_1$ and the set of books, and an edge $(n_0,n_1)$ (with $n_0 \\in V_0$, $n_1 \\in V_1$) exists if the person $n_0$ is interested in the book $n_1$. \n",
        "\n",
        "The question may be rephrased in: \"does a $V_0$-perfect matching exist?\" \n",
        "\n",
        "If there are less books than people, i.e., if $|V_1|<|V_0|$, a $V_0$-perfect matching cannot exist. This follows immediately from Hall's theorem by taking $\\mathcal{U}=V_0$, and observing that $N_{\\mathcal{U}} \\subseteq V_1$.\n",
        "\n",
        "**Remark**: Note that a perfect matching (both for $V_0$ and $V_1$) can exist only if $|V_0|=|V_1|$.\n",
        "\n",
        "We consider a simple bipartite network, and try a naive algorithm to answer the question."
      ]
    },
    {
      "cell_type": "code",
      "metadata": {
        "id": "_H9owoFSXNIW",
        "outputId": "c7249413-8fe3-473a-9dde-ab0557b9971d",
        "colab": {
          "base_uri": "https://localhost:8080/",
          "height": 319
        }
      },
      "source": [
        "G = nx.Graph()\n",
        "G.add_edges_from([(0,6),(0,7),(1,6),(1,7),(1,8),(2,5),(2,6),(2,7),(2,9),(3,7),(4,7),(4,8),(4,9)])\n",
        "\n",
        "pos = {0:[0,2], 1:[0,1], 2:[0,0], 3:[0,-1], 4:[0,-2], 5:[1,2], 6:[1,1], 7:[1,0], 8:[1,-1], 9:[1,-2]}\n",
        "\n",
        "nx.draw(G,pos, with_labels=True)"
      ],
      "execution_count": 19,
      "outputs": [
        {
          "output_type": "display_data",
          "data": {
            "image/png": "[encoded data removed]",
            "text/plain": [
              "<Figure size 432x288 with 1 Axes>"
            ]
          },
          "metadata": {}
        }
      ]
    },
    {
      "cell_type": "markdown",
      "metadata": {
        "id": "WKeasvBlXNIW"
      },
      "source": [
        "We let the left nodes to be people, and the right nodes to be books. You can verify that the graph is bipartite.\n",
        "\n",
        "We try this greedy algorithm: for every person (from above to below) we assign the first book (from above to below) of interest."
      ]
    },
    {
      "cell_type": "code",
      "metadata": {
        "id": "1HtlaUvFXNIW",
        "outputId": "dd5f18d2-4de3-4142-8d07-4e8b887d6b1d",
        "colab": {
          "base_uri": "https://localhost:8080/",
          "height": 319
        }
      },
      "source": [
        "# Assign book 6 to person 0\n",
        "for u,v in G.edges():\n",
        "    G[u][v]['color'] = 'black'\n",
        "    \n",
        "G[0][6]['color'] = 'red'\n",
        "\n",
        "colors = [G[u][v]['color'] for u,v in G.edges()]\n",
        "\n",
        "nx.draw(G, pos, with_labels = True, edge_color = colors)"
      ],
      "execution_count": 20,
      "outputs": [
        {
          "output_type": "display_data",
          "data": {
            "image/png": "[encoded data removed]",
            "text/plain": [
              "<Figure size 432x288 with 1 Axes>"
            ]
          },
          "metadata": {}
        }
      ]
    },
    {
      "cell_type": "code",
      "metadata": {
        "id": "TlbLFPbVXNIW",
        "outputId": "91fa2ce7-9e72-4a24-f0b7-9995c5fa34a6",
        "colab": {
          "base_uri": "https://localhost:8080/",
          "height": 319
        }
      },
      "source": [
        "# Book 6 is not available for person 1, thus assign book 7\n",
        "G[1][7]['color'] = 'blue'\n",
        "\n",
        "colors = [G[u][v]['color'] for u,v in G.edges()]\n",
        "\n",
        "nx.draw(G, pos, with_labels = True, edge_color = colors)"
      ],
      "execution_count": 21,
      "outputs": [
        {
          "output_type": "display_data",
          "data": {
            "image/png": "[encoded data removed]",
            "text/plain": [
              "<Figure size 432x288 with 1 Axes>"
            ]
          },
          "metadata": {}
        }
      ]
    },
    {
      "cell_type": "code",
      "metadata": {
        "id": "m0d1oCx1XNIW",
        "outputId": "8544a9e5-6ffd-4dc2-a6f1-f009a86f6a33",
        "colab": {
          "base_uri": "https://localhost:8080/",
          "height": 319
        }
      },
      "source": [
        "# Assign book 5 to person 2\n",
        "G[2][5]['color'] = 'green'\n",
        "\n",
        "colors = [G[u][v]['color'] for u,v in G.edges()]\n",
        "\n",
        "nx.draw(G, pos, with_labels = True, edge_color = colors)"
      ],
      "execution_count": 22,
      "outputs": [
        {
          "output_type": "display_data",
          "data": {
            "image/png": "[encoded data removed]",
            "text/plain": [
              "<Figure size 432x288 with 1 Axes>"
            ]
          },
          "metadata": {}
        }
      ]
    },
    {
      "cell_type": "markdown",
      "metadata": {
        "id": "KZfXIsamXNIW"
      },
      "source": [
        "Node 3 is not matched! The greedy algorithm fails in finding a perfect matching. \n",
        "\n",
        "However, this does not mean that a perfect matching does not exist. To verify that a perfect matching exists, one could verify the sufficient and necessary condition in Hall's marriage theorem. \n",
        "\n",
        "We instead show an analogy between maximal flows and perfect matching, and exploit such an analogy to find perfect matching by Ford-Fulkerson theorem."
      ]
    },
    {
      "cell_type": "markdown",
      "metadata": {
        "id": "z_zgrJmnXNIX"
      },
      "source": [
        "Given a simple bipartite graph $G=(V,E)$, consider the directed capacitated graph $G1$, with node set $V \\cup s \\cup t$, and edge set constructed as follows:\n",
        "- for every node $n \\in V_0$, add an edge (s,n), with capacity 1;\n",
        "- for every node $n \\in V_1$, add an edge (n,t), with capacity 1;\n",
        "- for every undirected edge $(i,j)$ in $G$, add a directed edge $(i,j)$ in $G1$ with capacity 1.\n",
        "\n",
        "Let us construct $G1$."
      ]
    },
    {
      "cell_type": "code",
      "metadata": {
        "id": "yXEBw453XNIX",
        "outputId": "d3062a6e-4862-492a-f783-f1552fce11e2",
        "colab": {
          "base_uri": "https://localhost:8080/",
          "height": 319
        }
      },
      "source": [
        "G1 = nx.DiGraph()\n",
        "G1.add_edges_from([(0,6),(0,7),(1,6),(1,7),(1,8),(2,5),(2,6),(2,7),(2,9),(3,7),(4,7),(4,8),(4,9)])\n",
        "G1.add_edges_from([(10,0),(10,1),(10,2),(10,3),(10,4),(5,11),(6,11),(7,11),(8,11),(9,11)])\n",
        "\n",
        "pos = {0:[0,2], 1:[0,1], 2:[0,0], 3:[0,-1], 4:[0,-2], 5:[1,2], 6:[1,1], 7:[1,0], 8:[1,-1], 9:[1,-2], 10:[-1,0], 11:[2,0]}\n",
        "\n",
        "nx.draw(G1,pos,with_labels=True)"
      ],
      "execution_count": 23,
      "outputs": [
        {
          "output_type": "display_data",
          "data": {
            "image/png": "[encoded data removed]",
            "text/plain": [
              "<Figure size 432x288 with 1 Axes>"
            ]
          },
          "metadata": {}
        }
      ]
    },
    {
      "cell_type": "markdown",
      "metadata": {
        "id": "WTHjITn4XNIX"
      },
      "source": [
        "There is an analogy between perfect matchings and maximal flow on this auxiliary network $G1$. In particular, a $V_0$-perfect matching on $G$ exists if and only if it there exists a flow with throughput $|V_0|$ on the network $G1$. We can now exploit Ford-Fulkerson algorithm to find the maximum flow that can be sent in $G1$.\n",
        "\n",
        "**Remark**: the analogy can be proved by using the fact that, if the capacities of the edges are integers, then the maximum flow has integer components (see the lecture notes). Because of the network structure, if a maximum flow with throughput $|V_0|$ exists, then every node in $V_0$ has incoming and outcoming flow $1$, since all the edges have unitary capacity. Moreover, given a node $i \\in |V_0|$, if a $|V_0|$-perfect matching exists, then there exists $k \\in V_1$ such that\n",
        "\n",
        "$$\n",
        "f_{(i,j)} = \n",
        "\\begin{cases}\n",
        "1 \\quad \\text{if} \\ j = k \\\\\n",
        "0 \\quad \\text{otherwise}\n",
        "\\end{cases}\n",
        "$$\n",
        "\n",
        "Thus, given a maximum flow with throughput $|V_0|$, the associated $V_0$-perfect matching can be found by selecting all the edges $(i,j)$ ($i \\in V_0, j \\in V_1$) such that $f_{(i,j)}=1$.\n",
        "\n",
        "**Exercise**: find the maximum flow on $G1$, and deduce the perfect matching on $G$."
      ]
    },
    {
      "cell_type": "markdown",
      "metadata": {
        "id": "DKd381_ZXNIX"
      },
      "source": [
        "The analogy can be pushed further by finding perfect matching in weighted graphs. With respect to our example, this would mean to allow multiple copies of the books, and to allow people to take more than one book.\n",
        "\n",
        "In the last part of the lecture, we focus on network flow optimization"
      ]
    },
    {
      "cell_type": "markdown",
      "metadata": {
        "id": "Yg2FPA6aXNIX"
      },
      "source": [
        "## Network Flow optimization\n",
        "For this exercise, we will use CVXPY which is a Python-embedded modeling language for convex optimization problems. It allows to express problems in a natural way that follows the math, rather than in the restrictive standard form required by solvers.\n",
        "\n",
        "If CVXPY is not already in your environment, you can install it following the instructions reported [here](https://www.cvxpy.org/install/index.html). (for Anaconda in Windows run in your notebook the command **conda install -c conda-forge cvxpy**)"
      ]
    },
    {
      "cell_type": "markdown",
      "metadata": {
        "id": "UBeIDo93XNIX"
      },
      "source": [
        "Separable convex network flow optimization arises in several applications, e.g., shortest paths between origin and destination, system optimum traffic flows, user optimum network flows in homogeneous routing games, electrical current flows in resistor networks.\n",
        "\n",
        "Given a multigraph $(V,E)$, an **exogenous network flow** is a vector ${\\nu} \\in \\mathrm{R}^V$ such that\n",
        "\n",
        "\\begin{equation}\n",
        "\t\\sum_{i \\in V} \\nu_i = 0.\n",
        "\\end{equation}\n",
        "\n",
        "A network flow is a vector $f \\in \\mathrm{R}^E$ satisfying a positivity constraint and a mass conservation constraints, i.e.,\n",
        "\n",
        "\\begin{equation}\n",
        " f \\ge \\mathbf{0}, \\quad Bf = \\nu.\n",
        "\\end{equation}\n",
        "\n",
        "Every edge is endowed with a separable non-decreasing convex cost function $\\psi_e(f_e)$ such that $\\psi_e(0)=0$. \n",
        "\n",
        "Given an exogenous flow $\\nu$ and a network with node-edge matrix $B$, we study the following optimization problem:\n",
        "\n",
        "\\begin{equation}\n",
        "\\begin{aligned}\n",
        "\tf^* \\in \\ & \\underset{\\substack{f \\in \\mathrm{R}^{E}_+ \\\\ B f = \\nu}}{\\arg\\min}\n",
        "\t& & \\sum_{e \\in E} \\psi_e (f_e).\n",
        "\\end{aligned}\n",
        "\\end{equation}\n",
        "\n",
        "The ratio $\\psi_e(f_e) / f_e$ may be interpreted as the cost per unit of flow sent along the edge $e$. The convexity of $\\psi_e(f_e)$ is thus equivalent to requiring that the marginal cost for sending some flow on each edge is non-decreasing in the flow itself."
      ]
    },
    {
      "cell_type": "markdown",
      "metadata": {
        "id": "ZVd-xt-HXNIX"
      },
      "source": [
        "This class of problems may be applied for shortest paths algorithms in a two-terminal network with origin and destination $(o,d)$. For instance:\n",
        "- if $\\psi_e(f_e) = f_e$, the cost for a unit of flow is 1, which means that all the edges has same length, and the cost paid for sending flow along an edge is simply proportional to the flow $f_e$ itself;\n",
        "- if $\\psi_e(f_e) = l_e f_e$, each edge is endowed with a length $l_e$ which differs from edge to edge. Even in this formulation, the cost for sending a unit of flow on the edge $e$ does not depend on $f_e$, which means that we are not taking into account congestion effects. Congestion effects appear when considering strictly convex cost functions.\n",
        "\n",
        "### Example "
      ]
    },
    {
      "cell_type": "code",
      "metadata": {
        "scrolled": true,
        "id": "XMttSDCiXNIX",
        "outputId": "67cad39d-3721-4599-a6aa-97f961724485",
        "colab": {
          "base_uri": "https://localhost:8080/",
          "height": 319
        }
      },
      "source": [
        "G = nx.DiGraph()\n",
        "\n",
        "G.add_nodes_from([])\n",
        "\n",
        "G.add_edges_from([(0,1),(0,2),(0,3),(1,3),(2,3)])\n",
        "\n",
        "pos = {0:[0,0], 1:[1,2], 2:[1,1], 3:[2,0]}\n",
        "\n",
        "nx.draw(G, pos, with_labels=True)"
      ],
      "execution_count": 24,
      "outputs": [
        {
          "output_type": "display_data",
          "data": {
            "image/png": "[encoded data removed]",
            "text/plain": [
              "<Figure size 432x288 with 1 Axes>"
            ]
          },
          "metadata": {}
        }
      ]
    },
    {
      "cell_type": "markdown",
      "metadata": {
        "id": "dlUtnHXuXNIY"
      },
      "source": [
        "We now use network flow optimization to find the shortest path from 0 to 2.\n",
        "\n",
        "Since the problem is linear, the solution will be to allocate the flow on a convex combination of the optimal paths."
      ]
    },
    {
      "cell_type": "code",
      "metadata": {
        "id": "gSp5Rn8_XNIY",
        "outputId": "58370528-ee66-40c6-b584-9a277de99a5c",
        "colab": {
          "base_uri": "https://localhost:8080/"
        }
      },
      "source": [
        "import cvxpy as cp\n",
        "\n",
        "# Problem data.\n",
        "\n",
        "# incidence_matrix(G, oriented=True).toarray() returns  \n",
        "# the incidence matrix of G as a numpy array. \n",
        "# In the matrix returned by incidence_matrix \n",
        "# a -1 appears for the source (tail) of an edge \n",
        "# and +1 for the destination (head) of the edge.\n",
        "# This sign convention is opposite to the one we adopt\n",
        "# for the node-link incidence matrix, so we \n",
        "# add a minus sign in front.\n",
        "B = - nx.linalg.graphmatrix.incidence_matrix(G, oriented=True).toarray() \n",
        "n_edges = len(G.edges)\n",
        "# exogenous flow vector: one unit of flow enters the origin and \n",
        "# exits the destination node\n",
        "# the solution of the shortest path problem is actually independent on the throughput value because of the linearity\n",
        "tau = 1\n",
        "nu = np.array([1, 0, 0, -1]) * tau\n",
        "# l stores the coefficients of the linear terms of the objective function.\n",
        "# In this case, the objective function is\n",
        "l = np.array([1,1,3,1,1]) # 1d array\n",
        "\n",
        "# Construct the problem.\n",
        "f = cp.Variable(n_edges)\n",
        "objective = cp.Minimize(l.T @ f)\n",
        "constraints = [B @ f == nu, f >=0]\n",
        "prob = cp.Problem(objective, constraints)\n",
        "\n",
        "# The optimal objective value is returned by `prob.solve()`.\n",
        "result = prob.solve()\n",
        "# The optimal value for f is stored in `f.value`.\n",
        "print(\"Optimal f:\", f.value)"
      ],
      "execution_count": 25,
      "outputs": [
        {
          "output_type": "stream",
          "name": "stdout",
          "text": [
            "Optimal f: [4.99999998e-01 4.99999998e-01 3.85901718e-09 4.99999998e-01\n",
            " 4.99999998e-01]\n"
          ]
        }
      ]
    },
    {
      "cell_type": "markdown",
      "metadata": {
        "id": "p0dKCtmNXNIY"
      },
      "source": [
        "The following characterization may be used to individuate the shortest paths: if the flow on a path $p$ is positive (i.e., if the flow on all the edges that compose the path is positive), then $p$ is a shortest path.\n",
        "\n",
        "**Exercise**: Compute the diameter of the Karate club network by using convex optimization, and compare the result with more standard methods, e.g., by using the networkX function to compute the diameter."
      ]
    },
    {
      "cell_type": "code",
      "metadata": {
        "id": "pw1qhx86XNIY"
      },
      "source": [
        "# TO DO"
      ],
      "execution_count": 26,
      "outputs": []
    },
    {
      "cell_type": "code",
      "metadata": {
        "id": "8TmOkdVgXNIY"
      },
      "source": [
        ""
      ],
      "execution_count": 26,
      "outputs": []
    },
    {
      "cell_type": "code",
      "metadata": {
        "id": "onVJ6n9XXNIY"
      },
      "source": [
        ""
      ],
      "execution_count": 26,
      "outputs": []
    },
    {
      "cell_type": "code",
      "metadata": {
        "id": "s-n71i87XNIY"
      },
      "source": [
        ""
      ],
      "execution_count": 26,
      "outputs": []
    },
    {
      "cell_type": "code",
      "metadata": {
        "id": "RDNzDgWTXNIY"
      },
      "source": [
        ""
      ],
      "execution_count": 26,
      "outputs": []
    },
    {
      "cell_type": "code",
      "metadata": {
        "id": "qB6jHaiJXNIZ"
      },
      "source": [
        ""
      ],
      "execution_count": 26,
      "outputs": []
    },
    {
      "cell_type": "code",
      "metadata": {
        "id": "qjL8z23tXNIZ"
      },
      "source": [
        ""
      ],
      "execution_count": 26,
      "outputs": []
    },
    {
      "cell_type": "code",
      "metadata": {
        "id": "bVs8ngcnXNIZ"
      },
      "source": [
        ""
      ],
      "execution_count": 26,
      "outputs": []
    },
    {
      "cell_type": "code",
      "metadata": {
        "id": "29TSqkjBXNIZ"
      },
      "source": [
        ""
      ],
      "execution_count": 26,
      "outputs": []
    },
    {
      "cell_type": "code",
      "metadata": {
        "id": "f5QDNMD3XNIZ"
      },
      "source": [
        ""
      ],
      "execution_count": 26,
      "outputs": []
    },
    {
      "cell_type": "code",
      "metadata": {
        "id": "rIQpGvCVXNIZ"
      },
      "source": [
        ""
      ],
      "execution_count": 26,
      "outputs": []
    },
    {
      "cell_type": "code",
      "metadata": {
        "id": "Yoln2hN9XNIZ"
      },
      "source": [
        ""
      ],
      "execution_count": 26,
      "outputs": []
    },
    {
      "cell_type": "code",
      "metadata": {
        "id": "_bqUGcolXNIZ"
      },
      "source": [
        ""
      ],
      "execution_count": 26,
      "outputs": []
    },
    {
      "cell_type": "code",
      "metadata": {
        "id": "ot0-NWYnXNIZ"
      },
      "source": [
        ""
      ],
      "execution_count": 26,
      "outputs": []
    },
    {
      "cell_type": "code",
      "metadata": {
        "id": "du8FcRiUXNIZ"
      },
      "source": [
        ""
      ],
      "execution_count": 26,
      "outputs": []
    }
  ]
}